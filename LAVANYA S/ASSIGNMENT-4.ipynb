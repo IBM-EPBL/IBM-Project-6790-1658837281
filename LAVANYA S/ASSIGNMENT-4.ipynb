{
 "cells": [
  {
   "cell_type": "code",
   "execution_count": 1,
   "id": "7226e369",
   "metadata": {},
   "outputs": [],
   "source": [
    "# import required libraries\n",
    "\n",
    "import pandas as pd\n",
    "import numpy as np\n",
    "import matplotlib.pyplot as plt\n",
    "import seaborn as sns\n",
    "from matplotlib import rcParams"
   ]
  },
  {
   "cell_type": "code",
   "execution_count": 41,
   "id": "9fe15f56",
   "metadata": {},
   "outputs": [
    {
     "data": {
      "text/html": [
       "<div>\n",
       "<style scoped>\n",
       "    .dataframe tbody tr th:only-of-type {\n",
       "        vertical-align: middle;\n",
       "    }\n",
       "\n",
       "    .dataframe tbody tr th {\n",
       "        vertical-align: top;\n",
       "    }\n",
       "\n",
       "    .dataframe thead th {\n",
       "        text-align: right;\n",
       "    }\n",
       "</style>\n",
       "<table border=\"1\" class=\"dataframe\">\n",
       "  <thead>\n",
       "    <tr style=\"text-align: right;\">\n",
       "      <th></th>\n",
       "      <th>CustomerID</th>\n",
       "      <th>Gender</th>\n",
       "      <th>Age</th>\n",
       "      <th>Annual Income (k$)</th>\n",
       "      <th>Spending Score (1-100)</th>\n",
       "    </tr>\n",
       "  </thead>\n",
       "  <tbody>\n",
       "    <tr>\n",
       "      <th>0</th>\n",
       "      <td>1</td>\n",
       "      <td>Male</td>\n",
       "      <td>19</td>\n",
       "      <td>15</td>\n",
       "      <td>39</td>\n",
       "    </tr>\n",
       "    <tr>\n",
       "      <th>1</th>\n",
       "      <td>2</td>\n",
       "      <td>Male</td>\n",
       "      <td>21</td>\n",
       "      <td>15</td>\n",
       "      <td>81</td>\n",
       "    </tr>\n",
       "    <tr>\n",
       "      <th>2</th>\n",
       "      <td>3</td>\n",
       "      <td>Female</td>\n",
       "      <td>20</td>\n",
       "      <td>16</td>\n",
       "      <td>6</td>\n",
       "    </tr>\n",
       "    <tr>\n",
       "      <th>3</th>\n",
       "      <td>4</td>\n",
       "      <td>Female</td>\n",
       "      <td>23</td>\n",
       "      <td>16</td>\n",
       "      <td>77</td>\n",
       "    </tr>\n",
       "    <tr>\n",
       "      <th>4</th>\n",
       "      <td>5</td>\n",
       "      <td>Female</td>\n",
       "      <td>31</td>\n",
       "      <td>17</td>\n",
       "      <td>40</td>\n",
       "    </tr>\n",
       "  </tbody>\n",
       "</table>\n",
       "</div>"
      ],
      "text/plain": [
       "   CustomerID  Gender  Age  Annual Income (k$)  Spending Score (1-100)\n",
       "0           1    Male   19                  15                      39\n",
       "1           2    Male   21                  15                      81\n",
       "2           3  Female   20                  16                       6\n",
       "3           4  Female   23                  16                      77\n",
       "4           5  Female   31                  17                      40"
      ]
     },
     "execution_count": 41,
     "metadata": {},
     "output_type": "execute_result"
    }
   ],
   "source": [
    "# 2. Load the dataset into the tool.\n",
    "\n",
    "df=pd.read_csv('Mall_Customers.csv')\n",
    "df.head()"
   ]
  },
  {
   "cell_type": "code",
   "execution_count": null,
   "id": "e21ce48d",
   "metadata": {},
   "outputs": [],
   "source": [
    "#3. Perform Below Visualizations.\n",
    "#∙ Univariate Analysis\n",
    "#∙ Bi- Variate Analysis\n",
    "#∙ Multi-Variate Analysis"
   ]
  },
  {
   "cell_type": "code",
   "execution_count": 43,
   "id": "ea8697f8",
   "metadata": {},
   "outputs": [],
   "source": [
    "df.rename(columns={\"Annual Income (k$)\":\"annual_income\",\"Spending Score (1-100)\":\"spending_scores\"},inplace=True)"
   ]
  },
  {
   "cell_type": "code",
   "execution_count": 10,
   "id": "ff1c0baf",
   "metadata": {},
   "outputs": [
    {
     "name": "stderr",
     "output_type": "stream",
     "text": [
      "C:\\Users\\SHWETHA ANAND\\anaconda3\\lib\\site-packages\\seaborn\\distributions.py:2557: FutureWarning: `distplot` is a deprecated function and will be removed in a future version. Please adapt your code to use either `displot` (a figure-level function with similar flexibility) or `histplot` (an axes-level function for histograms).\n",
      "  warnings.warn(msg, FutureWarning)\n"
     ]
    },
    {
     "data": {
      "text/plain": [
       "<AxesSubplot:xlabel='Age', ylabel='Density'>"
      ]
     },
     "execution_count": 10,
     "metadata": {},
     "output_type": "execute_result"
    },
    {
     "data": {
      "image/png": "[encoded data removed]",
      "text/plain": [
       "<Figure size 432x288 with 1 Axes>"
      ]
     },
     "metadata": {
      "needs_background": "light"
     },
     "output_type": "display_data"
    }
   ],
   "source": [
    "#Univariate Analysis\n",
    "sns.distplot(df.Age)"
   ]
  },
  {
   "cell_type": "code",
   "execution_count": 14,
   "id": "722527c7",
   "metadata": {},
   "outputs": [
    {
     "name": "stderr",
     "output_type": "stream",
     "text": [
      "C:\\Users\\SHWETHA ANAND\\anaconda3\\lib\\site-packages\\seaborn\\_decorators.py:36: FutureWarning: Pass the following variables as keyword args: x, y. From version 0.12, the only valid positional argument will be `data`, and passing other arguments without an explicit keyword will result in an error or misinterpretation.\n",
      "  warnings.warn(\n"
     ]
    },
    {
     "data": {
      "text/plain": [
       "<AxesSubplot:xlabel='Age', ylabel='spending_scores'>"
      ]
     },
     "execution_count": 14,
     "metadata": {},
     "output_type": "execute_result"
    },
    {
     "data": {
      "image/png": "[encoded data removed]",
      "text/plain": [
       "<Figure size 432x288 with 1 Axes>"
      ]
     },
     "metadata": {
      "needs_background": "light"
     },
     "output_type": "display_data"
    }
   ],
   "source": [
    "# Bi- Variate Analysis\n",
    "sns.lineplot(df.Age,df.spending_scores)"
   ]
  },
  {
   "cell_type": "code",
   "execution_count": 17,
   "id": "3cc7cc28",
   "metadata": {},
   "outputs": [],
   "source": [
    "# countplot( (bivariate analysis(involves two columns))\n",
    "def countplot_of_2(x,hue,title=None,figsize=(6,5)):\n",
    "    plt.figure(figsize=figsize)\n",
    "    sns.countplot(data=df[[x,hue]],x=x,hue=hue)\n",
    "    plt.title(title)\n",
    "    plt.show()"
   ]
  },
  {
   "cell_type": "code",
   "execution_count": 18,
   "id": "ee11c36f",
   "metadata": {},
   "outputs": [
    {
     "data": {
      "image/png": "[encoded data removed]",
      "text/plain": [
       "<Figure size 432x360 with 1 Axes>"
      ]
     },
     "metadata": {
      "needs_background": "light"
     },
     "output_type": "display_data"
    }
   ],
   "source": [
    "countplot_of_2('Gender','spending_scores','Gender/spending_scores')"
   ]
  },
  {
   "cell_type": "code",
   "execution_count": 19,
   "id": "6b87efbf",
   "metadata": {},
   "outputs": [
    {
     "data": {
      "text/plain": [
       "<seaborn.axisgrid.PairGrid at 0x1ef27760f10>"
      ]
     },
     "execution_count": 19,
     "metadata": {},
     "output_type": "execute_result"
    },
    {
     "data": {
      "image/png": "[encoded data removed]",
      "text/plain": [
       "<Figure size 720x720 with 20 Axes>"
      ]
     },
     "metadata": {
      "needs_background": "light"
     },
     "output_type": "display_data"
    }
   ],
   "source": [
    "#Multi-Variate Analysis\n",
    "sns.pairplot(df)"
   ]
  },
  {
   "cell_type": "code",
   "execution_count": null,
   "id": "4ea145e6",
   "metadata": {},
   "outputs": [],
   "source": [
    "#4. Perform descriptive statistics on the dataset."
   ]
  },
  {
   "cell_type": "code",
   "execution_count": 3,
   "id": "502cf247",
   "metadata": {},
   "outputs": [
    {
     "data": {
      "text/plain": [
       "(200, 5)"
      ]
     },
     "execution_count": 3,
     "metadata": {},
     "output_type": "execute_result"
    }
   ],
   "source": [
    "df.shape"
   ]
  },
  {
   "cell_type": "code",
   "execution_count": 4,
   "id": "e16cb24a",
   "metadata": {},
   "outputs": [
    {
     "name": "stdout",
     "output_type": "stream",
     "text": [
      "<class 'pandas.core.frame.DataFrame'>\n",
      "RangeIndex: 200 entries, 0 to 199\n",
      "Data columns (total 5 columns):\n",
      " #   Column                  Non-Null Count  Dtype \n",
      "---  ------                  --------------  ----- \n",
      " 0   CustomerID              200 non-null    int64 \n",
      " 1   Gender                  200 non-null    object\n",
      " 2   Age                     200 non-null    int64 \n",
      " 3   Annual Income (k$)      200 non-null    int64 \n",
      " 4   Spending Score (1-100)  200 non-null    int64 \n",
      "dtypes: int64(4), object(1)\n",
      "memory usage: 7.9+ KB\n"
     ]
    }
   ],
   "source": [
    "df.info()"
   ]
  },
  {
   "cell_type": "code",
   "execution_count": 20,
   "id": "c9e5477c",
   "metadata": {},
   "outputs": [
    {
     "data": {
      "text/html": [
       "<div>\n",
       "<style scoped>\n",
       "    .dataframe tbody tr th:only-of-type {\n",
       "        vertical-align: middle;\n",
       "    }\n",
       "\n",
       "    .dataframe tbody tr th {\n",
       "        vertical-align: top;\n",
       "    }\n",
       "\n",
       "    .dataframe thead th {\n",
       "        text-align: right;\n",
       "    }\n",
       "</style>\n",
       "<table border=\"1\" class=\"dataframe\">\n",
       "  <thead>\n",
       "    <tr style=\"text-align: right;\">\n",
       "      <th></th>\n",
       "      <th>CustomerID</th>\n",
       "      <th>Age</th>\n",
       "      <th>annual_income</th>\n",
       "      <th>spending_scores</th>\n",
       "    </tr>\n",
       "  </thead>\n",
       "  <tbody>\n",
       "    <tr>\n",
       "      <th>count</th>\n",
       "      <td>200.000000</td>\n",
       "      <td>200.000000</td>\n",
       "      <td>200.000000</td>\n",
       "      <td>200.000000</td>\n",
       "    </tr>\n",
       "    <tr>\n",
       "      <th>mean</th>\n",
       "      <td>100.500000</td>\n",
       "      <td>38.850000</td>\n",
       "      <td>60.560000</td>\n",
       "      <td>50.200000</td>\n",
       "    </tr>\n",
       "    <tr>\n",
       "      <th>std</th>\n",
       "      <td>57.879185</td>\n",
       "      <td>13.969007</td>\n",
       "      <td>26.264721</td>\n",
       "      <td>25.823522</td>\n",
       "    </tr>\n",
       "    <tr>\n",
       "      <th>min</th>\n",
       "      <td>1.000000</td>\n",
       "      <td>18.000000</td>\n",
       "      <td>15.000000</td>\n",
       "      <td>1.000000</td>\n",
       "    </tr>\n",
       "    <tr>\n",
       "      <th>25%</th>\n",
       "      <td>50.750000</td>\n",
       "      <td>28.750000</td>\n",
       "      <td>41.500000</td>\n",
       "      <td>34.750000</td>\n",
       "    </tr>\n",
       "    <tr>\n",
       "      <th>50%</th>\n",
       "      <td>100.500000</td>\n",
       "      <td>36.000000</td>\n",
       "      <td>61.500000</td>\n",
       "      <td>50.000000</td>\n",
       "    </tr>\n",
       "    <tr>\n",
       "      <th>75%</th>\n",
       "      <td>150.250000</td>\n",
       "      <td>49.000000</td>\n",
       "      <td>78.000000</td>\n",
       "      <td>73.000000</td>\n",
       "    </tr>\n",
       "    <tr>\n",
       "      <th>max</th>\n",
       "      <td>200.000000</td>\n",
       "      <td>70.000000</td>\n",
       "      <td>137.000000</td>\n",
       "      <td>99.000000</td>\n",
       "    </tr>\n",
       "  </tbody>\n",
       "</table>\n",
       "</div>"
      ],
      "text/plain": [
       "       CustomerID         Age  annual_income  spending_scores\n",
       "count  200.000000  200.000000     200.000000       200.000000\n",
       "mean   100.500000   38.850000      60.560000        50.200000\n",
       "std     57.879185   13.969007      26.264721        25.823522\n",
       "min      1.000000   18.000000      15.000000         1.000000\n",
       "25%     50.750000   28.750000      41.500000        34.750000\n",
       "50%    100.500000   36.000000      61.500000        50.000000\n",
       "75%    150.250000   49.000000      78.000000        73.000000\n",
       "max    200.000000   70.000000     137.000000        99.000000"
      ]
     },
     "execution_count": 20,
     "metadata": {},
     "output_type": "execute_result"
    }
   ],
   "source": [
    "df.describe()"
   ]
  },
  {
   "cell_type": "code",
   "execution_count": 23,
   "id": "16e90bb9",
   "metadata": {},
   "outputs": [
    {
     "name": "stdout",
     "output_type": "stream",
     "text": [
      "     CustomerID  Gender  Age  annual_income  spending_scores\n",
      "0             1    Male   19             15               39\n",
      "1             2    Male   21             15               81\n",
      "2             3  Female   20             16                6\n",
      "3             4  Female   23             16               77\n",
      "4             5  Female   31             17               40\n",
      "..          ...     ...  ...            ...              ...\n",
      "195         196  Female   35            120               79\n",
      "196         197  Female   45            126               28\n",
      "197         198    Male   32            126               74\n",
      "198         199    Male   32            137               18\n",
      "199         200    Male   30            137               83\n",
      "\n",
      "[200 rows x 5 columns]\n"
     ]
    }
   ],
   "source": [
    "data=pd.DataFrame(df)\n",
    "print(data)"
   ]
  },
  {
   "cell_type": "code",
   "execution_count": 24,
   "id": "068c1be1",
   "metadata": {},
   "outputs": [
    {
     "name": "stdout",
     "output_type": "stream",
     "text": [
      "CustomerID                                                     20100\n",
      "Gender             MaleMaleFemaleFemaleFemaleFemaleFemaleFemaleMa...\n",
      "Age                                                             7770\n",
      "annual_income                                                  12112\n",
      "spending_scores                                                10040\n",
      "dtype: object\n"
     ]
    }
   ],
   "source": [
    "print(data.sum())"
   ]
  },
  {
   "cell_type": "code",
   "execution_count": 25,
   "id": "288bc6d7",
   "metadata": {},
   "outputs": [
    {
     "name": "stdout",
     "output_type": "stream",
     "text": [
      "CustomerID         100.50\n",
      "Age                 38.85\n",
      "annual_income       60.56\n",
      "spending_scores     50.20\n",
      "dtype: float64\n"
     ]
    }
   ],
   "source": [
    "print(data.mean())"
   ]
  },
  {
   "cell_type": "code",
   "execution_count": 26,
   "id": "136ca941",
   "metadata": {},
   "outputs": [
    {
     "data": {
      "text/plain": [
       "CustomerID         100.5\n",
       "Age                 36.0\n",
       "annual_income       61.5\n",
       "spending_scores     50.0\n",
       "dtype: float64"
      ]
     },
     "execution_count": 26,
     "metadata": {},
     "output_type": "execute_result"
    }
   ],
   "source": [
    "data.median()"
   ]
  },
  {
   "cell_type": "code",
   "execution_count": 27,
   "id": "04e83688",
   "metadata": {},
   "outputs": [
    {
     "name": "stdout",
     "output_type": "stream",
     "text": [
      "CustomerID         57.879185\n",
      "Age                13.969007\n",
      "annual_income      26.264721\n",
      "spending_scores    25.823522\n",
      "dtype: float64\n"
     ]
    }
   ],
   "source": [
    "print(data.std())"
   ]
  },
  {
   "cell_type": "code",
   "execution_count": 21,
   "id": "398b5427",
   "metadata": {},
   "outputs": [],
   "source": [
    "#5. Check for Missing values and deal with them."
   ]
  },
  {
   "cell_type": "code",
   "execution_count": 22,
   "id": "7871aeee",
   "metadata": {},
   "outputs": [
    {
     "data": {
      "text/plain": [
       "CustomerID         False\n",
       "Gender             False\n",
       "Age                False\n",
       "annual_income      False\n",
       "spending_scores    False\n",
       "dtype: bool"
      ]
     },
     "execution_count": 22,
     "metadata": {},
     "output_type": "execute_result"
    }
   ],
   "source": [
    "df.isnull().any()"
   ]
  },
  {
   "cell_type": "code",
   "execution_count": 29,
   "id": "ce9eeb77",
   "metadata": {},
   "outputs": [
    {
     "data": {
      "text/plain": [
       "0"
      ]
     },
     "execution_count": 29,
     "metadata": {},
     "output_type": "execute_result"
    }
   ],
   "source": [
    "df.isnull().sum().sum()"
   ]
  },
  {
   "cell_type": "code",
   "execution_count": 30,
   "id": "968e00f7",
   "metadata": {},
   "outputs": [
    {
     "data": {
      "text/html": [
       "<div>\n",
       "<style scoped>\n",
       "    .dataframe tbody tr th:only-of-type {\n",
       "        vertical-align: middle;\n",
       "    }\n",
       "\n",
       "    .dataframe tbody tr th {\n",
       "        vertical-align: top;\n",
       "    }\n",
       "\n",
       "    .dataframe thead th {\n",
       "        text-align: right;\n",
       "    }\n",
       "</style>\n",
       "<table border=\"1\" class=\"dataframe\">\n",
       "  <thead>\n",
       "    <tr style=\"text-align: right;\">\n",
       "      <th></th>\n",
       "      <th>CustomerID</th>\n",
       "      <th>Gender</th>\n",
       "      <th>Age</th>\n",
       "      <th>annual_income</th>\n",
       "      <th>spending_scores</th>\n",
       "    </tr>\n",
       "  </thead>\n",
       "  <tbody>\n",
       "    <tr>\n",
       "      <th>0</th>\n",
       "      <td>False</td>\n",
       "      <td>False</td>\n",
       "      <td>False</td>\n",
       "      <td>False</td>\n",
       "      <td>False</td>\n",
       "    </tr>\n",
       "    <tr>\n",
       "      <th>1</th>\n",
       "      <td>False</td>\n",
       "      <td>False</td>\n",
       "      <td>False</td>\n",
       "      <td>False</td>\n",
       "      <td>False</td>\n",
       "    </tr>\n",
       "    <tr>\n",
       "      <th>2</th>\n",
       "      <td>False</td>\n",
       "      <td>False</td>\n",
       "      <td>False</td>\n",
       "      <td>False</td>\n",
       "      <td>False</td>\n",
       "    </tr>\n",
       "    <tr>\n",
       "      <th>3</th>\n",
       "      <td>False</td>\n",
       "      <td>False</td>\n",
       "      <td>False</td>\n",
       "      <td>False</td>\n",
       "      <td>False</td>\n",
       "    </tr>\n",
       "    <tr>\n",
       "      <th>4</th>\n",
       "      <td>False</td>\n",
       "      <td>False</td>\n",
       "      <td>False</td>\n",
       "      <td>False</td>\n",
       "      <td>False</td>\n",
       "    </tr>\n",
       "    <tr>\n",
       "      <th>...</th>\n",
       "      <td>...</td>\n",
       "      <td>...</td>\n",
       "      <td>...</td>\n",
       "      <td>...</td>\n",
       "      <td>...</td>\n",
       "    </tr>\n",
       "    <tr>\n",
       "      <th>195</th>\n",
       "      <td>False</td>\n",
       "      <td>False</td>\n",
       "      <td>False</td>\n",
       "      <td>False</td>\n",
       "      <td>False</td>\n",
       "    </tr>\n",
       "    <tr>\n",
       "      <th>196</th>\n",
       "      <td>False</td>\n",
       "      <td>False</td>\n",
       "      <td>False</td>\n",
       "      <td>False</td>\n",
       "      <td>False</td>\n",
       "    </tr>\n",
       "    <tr>\n",
       "      <th>197</th>\n",
       "      <td>False</td>\n",
       "      <td>False</td>\n",
       "      <td>False</td>\n",
       "      <td>False</td>\n",
       "      <td>False</td>\n",
       "    </tr>\n",
       "    <tr>\n",
       "      <th>198</th>\n",
       "      <td>False</td>\n",
       "      <td>False</td>\n",
       "      <td>False</td>\n",
       "      <td>False</td>\n",
       "      <td>False</td>\n",
       "    </tr>\n",
       "    <tr>\n",
       "      <th>199</th>\n",
       "      <td>False</td>\n",
       "      <td>False</td>\n",
       "      <td>False</td>\n",
       "      <td>False</td>\n",
       "      <td>False</td>\n",
       "    </tr>\n",
       "  </tbody>\n",
       "</table>\n",
       "<p>200 rows × 5 columns</p>\n",
       "</div>"
      ],
      "text/plain": [
       "     CustomerID  Gender    Age  annual_income  spending_scores\n",
       "0         False   False  False          False            False\n",
       "1         False   False  False          False            False\n",
       "2         False   False  False          False            False\n",
       "3         False   False  False          False            False\n",
       "4         False   False  False          False            False\n",
       "..          ...     ...    ...            ...              ...\n",
       "195       False   False  False          False            False\n",
       "196       False   False  False          False            False\n",
       "197       False   False  False          False            False\n",
       "198       False   False  False          False            False\n",
       "199       False   False  False          False            False\n",
       "\n",
       "[200 rows x 5 columns]"
      ]
     },
     "execution_count": 30,
     "metadata": {},
     "output_type": "execute_result"
    }
   ],
   "source": [
    "df.isnull()"
   ]
  },
  {
   "cell_type": "code",
   "execution_count": 31,
   "id": "00b97f5c",
   "metadata": {},
   "outputs": [],
   "source": [
    "#there is no missing values"
   ]
  },
  {
   "cell_type": "code",
   "execution_count": 32,
   "id": "2fa4316c",
   "metadata": {},
   "outputs": [],
   "source": [
    "#6. Find the outliers and replace them outliers"
   ]
  },
  {
   "cell_type": "code",
   "execution_count": 33,
   "id": "36c1b620",
   "metadata": {},
   "outputs": [
    {
     "name": "stderr",
     "output_type": "stream",
     "text": [
      "C:\\Users\\SHWETHA ANAND\\anaconda3\\lib\\site-packages\\seaborn\\_decorators.py:36: FutureWarning: Pass the following variable as a keyword arg: x. From version 0.12, the only valid positional argument will be `data`, and passing other arguments without an explicit keyword will result in an error or misinterpretation.\n",
      "  warnings.warn(\n"
     ]
    },
    {
     "data": {
      "text/plain": [
       "<AxesSubplot:xlabel='Age'>"
      ]
     },
     "execution_count": 33,
     "metadata": {},
     "output_type": "execute_result"
    },
    {
     "data": {
      "image/png": "[encoded data removed]",
      "text/plain": [
       "<Figure size 432x288 with 1 Axes>"
      ]
     },
     "metadata": {
      "needs_background": "light"
     },
     "output_type": "display_data"
    }
   ],
   "source": [
    "sns.boxplot(df.Age)"
   ]
  },
  {
   "cell_type": "code",
   "execution_count": 35,
   "id": "94316ec4",
   "metadata": {},
   "outputs": [
    {
     "name": "stderr",
     "output_type": "stream",
     "text": [
      "C:\\Users\\SHWETHA ANAND\\anaconda3\\lib\\site-packages\\seaborn\\_decorators.py:36: FutureWarning: Pass the following variable as a keyword arg: x. From version 0.12, the only valid positional argument will be `data`, and passing other arguments without an explicit keyword will result in an error or misinterpretation.\n",
      "  warnings.warn(\n"
     ]
    },
    {
     "data": {
      "text/plain": [
       "<AxesSubplot:xlabel='annual_income'>"
      ]
     },
     "execution_count": 35,
     "metadata": {},
     "output_type": "execute_result"
    },
    {
     "data": {
      "image/png": "[encoded data removed]",
      "text/plain": [
       "<Figure size 432x288 with 1 Axes>"
      ]
     },
     "metadata": {
      "needs_background": "light"
     },
     "output_type": "display_data"
    }
   ],
   "source": [
    "sns.boxplot(df.annual_income)"
   ]
  },
  {
   "cell_type": "code",
   "execution_count": 36,
   "id": "de376894",
   "metadata": {},
   "outputs": [
    {
     "name": "stderr",
     "output_type": "stream",
     "text": [
      "C:\\Users\\SHWETHA ANAND\\anaconda3\\lib\\site-packages\\seaborn\\_decorators.py:36: FutureWarning: Pass the following variable as a keyword arg: x. From version 0.12, the only valid positional argument will be `data`, and passing other arguments without an explicit keyword will result in an error or misinterpretation.\n",
      "  warnings.warn(\n"
     ]
    },
    {
     "data": {
      "text/plain": [
       "<AxesSubplot:xlabel='spending_scores'>"
      ]
     },
     "execution_count": 36,
     "metadata": {},
     "output_type": "execute_result"
    },
    {
     "data": {
      "image/png": "[encoded data removed]",
      "text/plain": [
       "<Figure size 432x288 with 1 Axes>"
      ]
     },
     "metadata": {
      "needs_background": "light"
     },
     "output_type": "display_data"
    }
   ],
   "source": [
    "sns.boxplot(df.spending_scores)"
   ]
  },
  {
   "cell_type": "code",
   "execution_count": 37,
   "id": "ce50d746",
   "metadata": {},
   "outputs": [
    {
     "data": {
      "text/plain": [
       "132.75"
      ]
     },
     "execution_count": 37,
     "metadata": {},
     "output_type": "execute_result"
    }
   ],
   "source": [
    "#outlier removal- IQR method (annual income column has an outlier)\n",
    "Q1= df.annual_income.quantile(0.25)\n",
    "Q3=df.annual_income.quantile(0.75)\n",
    "\n",
    "IQR=Q3-Q1\n",
    "\n",
    "upper_limit =Q3 + 1.5*IQR\n",
    "lower_limit =Q1 - 1.5*IQR\n",
    "\n",
    "upper_limit"
   ]
  },
  {
   "cell_type": "code",
   "execution_count": 38,
   "id": "77ce4bfd",
   "metadata": {},
   "outputs": [
    {
     "name": "stderr",
     "output_type": "stream",
     "text": [
      "C:\\Users\\SHWETHA ANAND\\anaconda3\\lib\\site-packages\\seaborn\\_decorators.py:36: FutureWarning: Pass the following variable as a keyword arg: x. From version 0.12, the only valid positional argument will be `data`, and passing other arguments without an explicit keyword will result in an error or misinterpretation.\n",
      "  warnings.warn(\n"
     ]
    },
    {
     "data": {
      "text/plain": [
       "<AxesSubplot:xlabel='annual_income'>"
      ]
     },
     "execution_count": 38,
     "metadata": {},
     "output_type": "execute_result"
    },
    {
     "data": {
      "image/png": "[encoded data removed]",
      "text/plain": [
       "<Figure size 432x288 with 1 Axes>"
      ]
     },
     "metadata": {
      "needs_background": "light"
     },
     "output_type": "display_data"
    }
   ],
   "source": [
    "df=df[df.annual_income<upper_limit]\n",
    "\n",
    "sns.boxplot(df.annual_income)"
   ]
  },
  {
   "cell_type": "code",
   "execution_count": null,
   "id": "1356e15c",
   "metadata": {},
   "outputs": [],
   "source": [
    "#Outlier replacement using median"
   ]
  },
  {
   "cell_type": "code",
   "execution_count": 44,
   "id": "b834fcac",
   "metadata": {},
   "outputs": [
    {
     "name": "stderr",
     "output_type": "stream",
     "text": [
      "C:\\Users\\SHWETHA ANAND\\anaconda3\\lib\\site-packages\\seaborn\\_decorators.py:36: FutureWarning: Pass the following variable as a keyword arg: x. From version 0.12, the only valid positional argument will be `data`, and passing other arguments without an explicit keyword will result in an error or misinterpretation.\n",
      "  warnings.warn(\n"
     ]
    },
    {
     "data": {
      "text/plain": [
       "<AxesSubplot:xlabel='annual_income'>"
      ]
     },
     "execution_count": 44,
     "metadata": {},
     "output_type": "execute_result"
    },
    {
     "data": {
      "image/png": "[encoded data removed]",
      "text/plain": [
       "<Figure size 432x288 with 1 Axes>"
      ]
     },
     "metadata": {
      "needs_background": "light"
     },
     "output_type": "display_data"
    }
   ],
   "source": [
    "sns.boxplot(df.annual_income)"
   ]
  },
  {
   "cell_type": "code",
   "execution_count": 45,
   "id": "889974de",
   "metadata": {},
   "outputs": [
    {
     "data": {
      "text/plain": [
       "CustomerID         100.5\n",
       "Age                 36.0\n",
       "annual_income       61.5\n",
       "spending_scores     50.0\n",
       "dtype: float64"
      ]
     },
     "execution_count": 45,
     "metadata": {},
     "output_type": "execute_result"
    }
   ],
   "source": [
    "df.median()"
   ]
  },
  {
   "cell_type": "code",
   "execution_count": 48,
   "id": "9fb49e26",
   "metadata": {},
   "outputs": [],
   "source": [
    "Q1= df.annual_income.quantile(0.25)\n",
    "Q3=df.annual_income.quantile(0.75)\n",
    "IQR=Q3-Q1\n",
    "upper_limit =Q3 + 1.5*IQR\n",
    "lower_limit =Q1 - 1.5*IQR\n",
    "df['annual_income'] = np.where(df['annual_income']>upper_limit,30,df['annual_income'])"
   ]
  },
  {
   "cell_type": "code",
   "execution_count": 49,
   "id": "8cc16e09",
   "metadata": {},
   "outputs": [
    {
     "name": "stderr",
     "output_type": "stream",
     "text": [
      "C:\\Users\\SHWETHA ANAND\\anaconda3\\lib\\site-packages\\seaborn\\_decorators.py:36: FutureWarning: Pass the following variable as a keyword arg: x. From version 0.12, the only valid positional argument will be `data`, and passing other arguments without an explicit keyword will result in an error or misinterpretation.\n",
      "  warnings.warn(\n"
     ]
    },
    {
     "data": {
      "text/plain": [
       "<AxesSubplot:xlabel='annual_income'>"
      ]
     },
     "execution_count": 49,
     "metadata": {},
     "output_type": "execute_result"
    },
    {
     "data": {
      "image/png": "[encoded data removed]",
      "text/plain": [
       "<Figure size 432x288 with 1 Axes>"
      ]
     },
     "metadata": {
      "needs_background": "light"
     },
     "output_type": "display_data"
    }
   ],
   "source": [
    "sns.boxplot(df.annual_income)"
   ]
  },
  {
   "cell_type": "code",
   "execution_count": 39,
   "id": "dc3b360e",
   "metadata": {},
   "outputs": [],
   "source": [
    "#7. Check for Categorical columns and perform encoding.\n",
    "#label encoding"
   ]
  },
  {
   "cell_type": "code",
   "execution_count": 50,
   "id": "49407c40",
   "metadata": {},
   "outputs": [
    {
     "data": {
      "text/plain": [
       "CustomerID          int64\n",
       "Gender             object\n",
       "Age                 int64\n",
       "annual_income       int64\n",
       "spending_scores     int64\n",
       "dtype: object"
      ]
     },
     "execution_count": 50,
     "metadata": {},
     "output_type": "execute_result"
    }
   ],
   "source": [
    "df.dtypes"
   ]
  },
  {
   "cell_type": "code",
   "execution_count": 51,
   "id": "11c69508",
   "metadata": {},
   "outputs": [],
   "source": [
    "from sklearn.preprocessing import LabelEncoder"
   ]
  },
  {
   "cell_type": "code",
   "execution_count": 52,
   "id": "bba534eb",
   "metadata": {},
   "outputs": [],
   "source": [
    "le=LabelEncoder()"
   ]
  },
  {
   "cell_type": "code",
   "execution_count": 53,
   "id": "ddff5ea6",
   "metadata": {},
   "outputs": [],
   "source": [
    "df.Gender = le.fit_transform(df.Gender)"
   ]
  },
  {
   "cell_type": "code",
   "execution_count": 54,
   "id": "98c373f7",
   "metadata": {},
   "outputs": [
    {
     "data": {
      "text/html": [
       "<div>\n",
       "<style scoped>\n",
       "    .dataframe tbody tr th:only-of-type {\n",
       "        vertical-align: middle;\n",
       "    }\n",
       "\n",
       "    .dataframe tbody tr th {\n",
       "        vertical-align: top;\n",
       "    }\n",
       "\n",
       "    .dataframe thead th {\n",
       "        text-align: right;\n",
       "    }\n",
       "</style>\n",
       "<table border=\"1\" class=\"dataframe\">\n",
       "  <thead>\n",
       "    <tr style=\"text-align: right;\">\n",
       "      <th></th>\n",
       "      <th>CustomerID</th>\n",
       "      <th>Gender</th>\n",
       "      <th>Age</th>\n",
       "      <th>annual_income</th>\n",
       "      <th>spending_scores</th>\n",
       "    </tr>\n",
       "  </thead>\n",
       "  <tbody>\n",
       "    <tr>\n",
       "      <th>0</th>\n",
       "      <td>1</td>\n",
       "      <td>1</td>\n",
       "      <td>19</td>\n",
       "      <td>15</td>\n",
       "      <td>39</td>\n",
       "    </tr>\n",
       "    <tr>\n",
       "      <th>1</th>\n",
       "      <td>2</td>\n",
       "      <td>1</td>\n",
       "      <td>21</td>\n",
       "      <td>15</td>\n",
       "      <td>81</td>\n",
       "    </tr>\n",
       "    <tr>\n",
       "      <th>2</th>\n",
       "      <td>3</td>\n",
       "      <td>0</td>\n",
       "      <td>20</td>\n",
       "      <td>16</td>\n",
       "      <td>6</td>\n",
       "    </tr>\n",
       "    <tr>\n",
       "      <th>3</th>\n",
       "      <td>4</td>\n",
       "      <td>0</td>\n",
       "      <td>23</td>\n",
       "      <td>16</td>\n",
       "      <td>77</td>\n",
       "    </tr>\n",
       "    <tr>\n",
       "      <th>4</th>\n",
       "      <td>5</td>\n",
       "      <td>0</td>\n",
       "      <td>31</td>\n",
       "      <td>17</td>\n",
       "      <td>40</td>\n",
       "    </tr>\n",
       "  </tbody>\n",
       "</table>\n",
       "</div>"
      ],
      "text/plain": [
       "   CustomerID  Gender  Age  annual_income  spending_scores\n",
       "0           1       1   19             15               39\n",
       "1           2       1   21             15               81\n",
       "2           3       0   20             16                6\n",
       "3           4       0   23             16               77\n",
       "4           5       0   31             17               40"
      ]
     },
     "execution_count": 54,
     "metadata": {},
     "output_type": "execute_result"
    }
   ],
   "source": [
    "df.head()"
   ]
  },
  {
   "cell_type": "code",
   "execution_count": 141,
   "id": "f0771fe8",
   "metadata": {},
   "outputs": [],
   "source": [
    "#OneHotEncoder\n",
    "p = df.iloc[:,1:].values\n",
    "q = df.iloc[:,4].values"
   ]
  },
  {
   "cell_type": "code",
   "execution_count": 142,
   "id": "6e62d15a",
   "metadata": {},
   "outputs": [],
   "source": [
    "from sklearn.preprocessing import OneHotEncoder\n",
    "ohe = OneHotEncoder()"
   ]
  },
  {
   "cell_type": "code",
   "execution_count": 143,
   "id": "338ad7cc",
   "metadata": {},
   "outputs": [
    {
     "data": {
      "text/plain": [
       "array([[0., 1., 0., ..., 0., 0., 0.],\n",
       "       [0., 0., 0., ..., 0., 0., 0.],\n",
       "       [0., 0., 1., ..., 0., 0., 0.],\n",
       "       ...,\n",
       "       [0., 0., 0., ..., 0., 0., 0.],\n",
       "       [0., 0., 0., ..., 0., 0., 0.],\n",
       "       [0., 0., 0., ..., 0., 0., 0.]])"
      ]
     },
     "execution_count": 143,
     "metadata": {},
     "output_type": "execute_result"
    }
   ],
   "source": [
    "z = ohe.fit_transform(p[:,1:]).toarray()\n",
    "z"
   ]
  },
  {
   "cell_type": "code",
   "execution_count": 144,
   "id": "42024b5c",
   "metadata": {},
   "outputs": [
    {
     "data": {
      "text/plain": [
       "array([39, 81,  6, 77, 40, 76,  6, 94,  3, 72, 14, 99, 15, 77, 13, 79, 35,\n",
       "       66, 29, 98, 35, 73,  5, 73, 14, 82, 32, 61, 31, 87,  4, 73,  4, 92,\n",
       "       14, 81, 17, 73, 26, 75, 35, 92, 36, 61, 28, 65, 55, 47, 42, 42, 52,\n",
       "       60, 54, 60, 45, 41, 50, 46, 51, 46, 56, 55, 52, 59, 51, 59, 50, 48,\n",
       "       59, 47, 55, 42, 49, 56, 47, 54, 53, 48, 52, 42, 51, 55, 41, 44, 57,\n",
       "       46, 58, 55, 60, 46, 55, 41, 49, 40, 42, 52, 47, 50, 42, 49, 41, 48,\n",
       "       59, 55, 56, 42, 50, 46, 43, 48, 52, 54, 42, 46, 48, 50, 43, 59, 43,\n",
       "       57, 56, 40, 58, 91, 29, 77, 35, 95, 11, 75,  9, 75, 34, 71,  5, 88,\n",
       "        7, 73, 10, 72,  5, 93, 40, 87, 12, 97, 36, 74, 22, 90, 17, 88, 20,\n",
       "       76, 16, 89,  1, 78,  1, 73, 35, 83,  5, 93, 26, 75, 20, 95, 27, 63,\n",
       "       13, 75, 10, 92, 13, 86, 15, 69, 14, 90, 32, 86, 15, 88, 39, 97, 24,\n",
       "       68, 17, 85, 23, 69,  8, 91, 16, 79, 28, 74, 18, 83], dtype=int64)"
      ]
     },
     "execution_count": 144,
     "metadata": {},
     "output_type": "execute_result"
    }
   ],
   "source": [
    "q"
   ]
  },
  {
   "cell_type": "code",
   "execution_count": 145,
   "id": "8c6bf9e1",
   "metadata": {},
   "outputs": [
    {
     "data": {
      "text/html": [
       "<div>\n",
       "<style scoped>\n",
       "    .dataframe tbody tr th:only-of-type {\n",
       "        vertical-align: middle;\n",
       "    }\n",
       "\n",
       "    .dataframe tbody tr th {\n",
       "        vertical-align: top;\n",
       "    }\n",
       "\n",
       "    .dataframe thead th {\n",
       "        text-align: right;\n",
       "    }\n",
       "</style>\n",
       "<table border=\"1\" class=\"dataframe\">\n",
       "  <thead>\n",
       "    <tr style=\"text-align: right;\">\n",
       "      <th></th>\n",
       "      <th>CustomerID</th>\n",
       "      <th>Gender</th>\n",
       "      <th>Age</th>\n",
       "      <th>annual_income</th>\n",
       "    </tr>\n",
       "  </thead>\n",
       "  <tbody>\n",
       "    <tr>\n",
       "      <th>0</th>\n",
       "      <td>1</td>\n",
       "      <td>1</td>\n",
       "      <td>19</td>\n",
       "      <td>15</td>\n",
       "    </tr>\n",
       "    <tr>\n",
       "      <th>1</th>\n",
       "      <td>2</td>\n",
       "      <td>1</td>\n",
       "      <td>21</td>\n",
       "      <td>15</td>\n",
       "    </tr>\n",
       "    <tr>\n",
       "      <th>2</th>\n",
       "      <td>3</td>\n",
       "      <td>0</td>\n",
       "      <td>20</td>\n",
       "      <td>16</td>\n",
       "    </tr>\n",
       "    <tr>\n",
       "      <th>3</th>\n",
       "      <td>4</td>\n",
       "      <td>0</td>\n",
       "      <td>23</td>\n",
       "      <td>16</td>\n",
       "    </tr>\n",
       "    <tr>\n",
       "      <th>4</th>\n",
       "      <td>5</td>\n",
       "      <td>0</td>\n",
       "      <td>31</td>\n",
       "      <td>17</td>\n",
       "    </tr>\n",
       "  </tbody>\n",
       "</table>\n",
       "</div>"
      ],
      "text/plain": [
       "   CustomerID  Gender  Age  annual_income\n",
       "0           1       1   19             15\n",
       "1           2       1   21             15\n",
       "2           3       0   20             16\n",
       "3           4       0   23             16\n",
       "4           5       0   31             17"
      ]
     },
     "execution_count": 145,
     "metadata": {},
     "output_type": "execute_result"
    }
   ],
   "source": [
    "#11.X and y split\n",
    "# independent varibles-X\n",
    "\n",
    "X=df.drop(columns=['spending_scores'],axis=1)\n",
    "X.head()"
   ]
  },
  {
   "cell_type": "code",
   "execution_count": 146,
   "id": "d4537e24",
   "metadata": {},
   "outputs": [
    {
     "data": {
      "text/plain": [
       "0      39\n",
       "1      81\n",
       "2       6\n",
       "3      77\n",
       "4      40\n",
       "       ..\n",
       "195    79\n",
       "196    28\n",
       "197    74\n",
       "198    18\n",
       "199    83\n",
       "Name: spending_scores, Length: 200, dtype: int64"
      ]
     },
     "execution_count": 146,
     "metadata": {},
     "output_type": "execute_result"
    }
   ],
   "source": [
    "# y target-dependent variable\n",
    "y=df.spending_scores\n",
    "y"
   ]
  },
  {
   "cell_type": "code",
   "execution_count": 147,
   "id": "7452fc74",
   "metadata": {},
   "outputs": [
    {
     "data": {
      "text/plain": [
       "array([[ 1.12815215, -1.42456879, -1.76393539, -0.43480148],\n",
       "       [ 1.12815215, -1.28103541, -1.76393539,  1.19570407],\n",
       "       [-0.88640526, -1.3528021 , -1.72428748, -1.71591298],\n",
       "       [-0.88640526, -1.13750203, -1.72428748,  1.04041783],\n",
       "       [-0.88640526, -0.56336851, -1.68463958, -0.39597992],\n",
       "       [-0.88640526, -1.20926872, -1.68463958,  1.00159627],\n",
       "       [-0.88640526, -0.27630176, -1.64499167, -1.71591298],\n",
       "       [-0.88640526, -1.13750203, -1.64499167,  1.70038436],\n",
       "       [ 1.12815215,  1.80493225, -1.60534376, -1.83237767],\n",
       "       [-0.88640526, -0.6351352 , -1.60534376,  0.84631002],\n",
       "       [ 1.12815215,  2.02023231, -1.60534376, -1.4053405 ],\n",
       "       [-0.88640526, -0.27630176, -1.60534376,  1.89449216],\n",
       "       [-0.88640526,  1.37433211, -1.56569586, -1.36651894],\n",
       "       [-0.88640526, -1.06573534, -1.56569586,  1.04041783],\n",
       "       [ 1.12815215, -0.13276838, -1.56569586, -1.44416206],\n",
       "       [ 1.12815215, -1.20926872, -1.56569586,  1.11806095],\n",
       "       [-0.88640526, -0.27630176, -1.52604795, -0.59008772],\n",
       "       [ 1.12815215, -1.3528021 , -1.52604795,  0.61338066],\n",
       "       [ 1.12815215,  0.94373197, -1.44675213, -0.82301709],\n",
       "       [-0.88640526, -0.27630176, -1.44675213,  1.8556706 ],\n",
       "       [ 1.12815215, -0.27630176, -1.40710423, -0.59008772],\n",
       "       [ 1.12815215, -0.99396865, -1.40710423,  0.88513158],\n",
       "       [-0.88640526,  0.51313183, -1.36745632, -1.75473454],\n",
       "       [ 1.12815215, -0.56336851, -1.36745632,  0.88513158],\n",
       "       [-0.88640526,  1.08726535, -1.2485126 , -1.4053405 ],\n",
       "       [ 1.12815215, -0.70690189, -1.2485126 ,  1.23452563],\n",
       "       [-0.88640526,  0.44136514, -1.2485126 , -0.7065524 ],\n",
       "       [ 1.12815215, -0.27630176, -1.2485126 ,  0.41927286],\n",
       "       [-0.88640526,  0.08253169, -1.20886469, -0.74537397],\n",
       "       [-0.88640526, -1.13750203, -1.20886469,  1.42863343],\n",
       "       [ 1.12815215,  1.51786549, -1.16921678, -1.7935561 ],\n",
       "       [-0.88640526, -1.28103541, -1.16921678,  0.88513158],\n",
       "       [ 1.12815215,  1.01549866, -1.05027306, -1.7935561 ],\n",
       "       [ 1.12815215, -1.49633548, -1.05027306,  1.62274124],\n",
       "       [-0.88640526,  0.7284319 , -1.05027306, -1.4053405 ],\n",
       "       [-0.88640526, -1.28103541, -1.05027306,  1.19570407],\n",
       "       [-0.88640526,  0.22606507, -1.01062515, -1.28887582],\n",
       "       [-0.88640526, -0.6351352 , -1.01062515,  0.88513158],\n",
       "       [-0.88640526, -0.20453507, -0.89168143, -0.93948177],\n",
       "       [-0.88640526, -1.3528021 , -0.89168143,  0.96277471],\n",
       "       [-0.88640526,  1.87669894, -0.85203353, -0.59008772],\n",
       "       [ 1.12815215, -1.06573534, -0.85203353,  1.62274124],\n",
       "       [ 1.12815215,  0.65666521, -0.81238562, -0.55126616],\n",
       "       [-0.88640526, -0.56336851, -0.81238562,  0.41927286],\n",
       "       [-0.88640526,  0.7284319 , -0.81238562, -0.86183865],\n",
       "       [-0.88640526, -1.06573534, -0.81238562,  0.5745591 ],\n",
       "       [-0.88640526,  0.80019859, -0.77273771,  0.18634349],\n",
       "       [-0.88640526, -0.85043527, -0.77273771, -0.12422899],\n",
       "       [-0.88640526, -0.70690189, -0.77273771, -0.3183368 ],\n",
       "       [-0.88640526, -0.56336851, -0.77273771, -0.3183368 ],\n",
       "       [-0.88640526,  0.7284319 , -0.6934419 ,  0.06987881],\n",
       "       [ 1.12815215, -0.41983513, -0.6934419 ,  0.38045129],\n",
       "       [-0.88640526, -0.56336851, -0.65379399,  0.14752193],\n",
       "       [ 1.12815215,  1.4460988 , -0.65379399,  0.38045129],\n",
       "       [-0.88640526,  0.80019859, -0.65379399, -0.20187212],\n",
       "       [ 1.12815215,  0.58489852, -0.65379399, -0.35715836],\n",
       "       [-0.88640526,  0.87196528, -0.61414608, -0.00776431],\n",
       "       [ 1.12815215,  2.16376569, -0.61414608, -0.16305055],\n",
       "       [-0.88640526, -0.85043527, -0.53485027,  0.03105725],\n",
       "       [ 1.12815215,  1.01549866, -0.53485027, -0.16305055],\n",
       "       [ 1.12815215,  2.23553238, -0.53485027,  0.22516505],\n",
       "       [ 1.12815215, -1.42456879, -0.53485027,  0.18634349],\n",
       "       [-0.88640526,  2.02023231, -0.49520236,  0.06987881],\n",
       "       [-0.88640526,  1.08726535, -0.49520236,  0.34162973],\n",
       "       [ 1.12815215,  1.73316556, -0.45555445,  0.03105725],\n",
       "       [ 1.12815215, -1.49633548, -0.45555445,  0.34162973],\n",
       "       [-0.88640526,  0.29783176, -0.45555445, -0.00776431],\n",
       "       [-0.88640526,  2.091999  , -0.45555445, -0.08540743],\n",
       "       [ 1.12815215, -1.42456879, -0.45555445,  0.34162973],\n",
       "       [-0.88640526, -0.49160182, -0.45555445, -0.12422899],\n",
       "       [ 1.12815215,  2.23553238, -0.41590655,  0.18634349],\n",
       "       [-0.88640526,  0.58489852, -0.41590655, -0.3183368 ],\n",
       "       [-0.88640526,  1.51786549, -0.37625864, -0.04658587],\n",
       "       [-0.88640526,  1.51786549, -0.37625864,  0.22516505],\n",
       "       [ 1.12815215,  1.4460988 , -0.21766701, -0.12422899],\n",
       "       [ 1.12815215, -0.92220196, -0.21766701,  0.14752193],\n",
       "       [-0.88640526,  0.44136514, -0.21766701,  0.10870037],\n",
       "       [ 1.12815215,  0.08253169, -0.21766701, -0.08540743],\n",
       "       [-0.88640526, -1.13750203, -0.21766701,  0.06987881],\n",
       "       [-0.88640526,  0.7284319 , -0.21766701, -0.3183368 ],\n",
       "       [ 1.12815215,  1.30256542, -0.21766701,  0.03105725],\n",
       "       [ 1.12815215, -0.06100169, -0.21766701,  0.18634349],\n",
       "       [ 1.12815215,  2.02023231, -0.21766701, -0.35715836],\n",
       "       [-0.88640526,  0.51313183, -0.21766701, -0.24069368],\n",
       "       [-0.88640526, -1.28103541, -0.21766701,  0.26398661],\n",
       "       [ 1.12815215,  0.65666521, -0.21766701, -0.16305055],\n",
       "       [-0.88640526,  1.15903204, -0.09872329,  0.30280817],\n",
       "       [-0.88640526, -1.20926872, -0.09872329,  0.18634349],\n",
       "       [-0.88640526, -0.34806844, -0.05907538,  0.38045129],\n",
       "       [-0.88640526,  0.80019859, -0.05907538, -0.16305055],\n",
       "       [-0.88640526,  2.091999  , -0.01942747,  0.18634349],\n",
       "       [ 1.12815215, -1.49633548, -0.01942747, -0.35715836],\n",
       "       [ 1.12815215,  0.65666521,  0.02022043, -0.04658587],\n",
       "       [-0.88640526,  0.08253169,  0.02022043, -0.39597992],\n",
       "       [-0.88640526, -0.49160182,  0.02022043, -0.3183368 ],\n",
       "       [ 1.12815215, -1.06573534,  0.02022043,  0.06987881],\n",
       "       [-0.88640526,  0.58489852,  0.02022043, -0.12422899],\n",
       "       [-0.88640526, -0.85043527,  0.02022043, -0.00776431],\n",
       "       [ 1.12815215,  0.65666521,  0.05986834, -0.3183368 ],\n",
       "       [ 1.12815215, -1.3528021 ,  0.05986834, -0.04658587],\n",
       "       [-0.88640526, -1.13750203,  0.09951625, -0.35715836],\n",
       "       [-0.88640526,  0.7284319 ,  0.09951625, -0.08540743],\n",
       "       [ 1.12815215,  2.02023231,  0.09951625,  0.34162973],\n",
       "       [ 1.12815215, -0.92220196,  0.09951625,  0.18634349],\n",
       "       [ 1.12815215,  0.7284319 ,  0.09951625,  0.22516505],\n",
       "       [-0.88640526, -1.28103541,  0.09951625, -0.3183368 ],\n",
       "       [-0.88640526,  1.94846562,  0.13916415, -0.00776431],\n",
       "       [ 1.12815215,  1.08726535,  0.13916415, -0.16305055],\n",
       "       [ 1.12815215,  2.091999  ,  0.13916415, -0.27951524],\n",
       "       [ 1.12815215,  1.94846562,  0.13916415, -0.08540743],\n",
       "       [ 1.12815215,  1.87669894,  0.13916415,  0.06987881],\n",
       "       [-0.88640526, -1.42456879,  0.13916415,  0.14752193],\n",
       "       [-0.88640526, -0.06100169,  0.17881206, -0.3183368 ],\n",
       "       [ 1.12815215, -1.42456879,  0.17881206, -0.16305055],\n",
       "       [-0.88640526, -1.49633548,  0.21845997, -0.08540743],\n",
       "       [-0.88640526, -1.42456879,  0.21845997, -0.00776431],\n",
       "       [-0.88640526,  1.73316556,  0.21845997, -0.27951524],\n",
       "       [-0.88640526,  0.7284319 ,  0.21845997,  0.34162973],\n",
       "       [-0.88640526,  0.87196528,  0.29775578, -0.27951524],\n",
       "       [-0.88640526,  0.80019859,  0.29775578,  0.26398661],\n",
       "       [ 1.12815215, -0.85043527,  0.29775578,  0.22516505],\n",
       "       [-0.88640526, -0.06100169,  0.29775578, -0.39597992],\n",
       "       [-0.88640526,  0.08253169,  0.3770516 ,  0.30280817],\n",
       "       [ 1.12815215,  0.010765  ,  0.3770516 ,  1.58391968],\n",
       "       [-0.88640526, -1.13750203,  0.4166995 , -0.82301709],\n",
       "       [-0.88640526, -0.56336851,  0.4166995 ,  1.04041783],\n",
       "       [ 1.12815215,  0.29783176,  0.45634741, -0.59008772],\n",
       "       [ 1.12815215,  0.08253169,  0.45634741,  1.73920592],\n",
       "       [ 1.12815215,  1.4460988 ,  0.45634741, -1.52180518],\n",
       "       [ 1.12815215, -0.06100169,  0.45634741,  0.96277471],\n",
       "       [ 1.12815215,  0.58489852,  0.45634741, -1.5994483 ],\n",
       "       [ 1.12815215,  0.010765  ,  0.45634741,  0.96277471],\n",
       "       [-0.88640526, -0.99396865,  0.49599532, -0.62890928],\n",
       "       [-0.88640526, -0.56336851,  0.49599532,  0.80748846],\n",
       "       [ 1.12815215, -1.3528021 ,  0.53564323, -1.75473454],\n",
       "       [-0.88640526, -0.70690189,  0.53564323,  1.46745499],\n",
       "       [-0.88640526,  0.36959845,  0.53564323, -1.67709142],\n",
       "       [ 1.12815215, -0.49160182,  0.53564323,  0.88513158],\n",
       "       [ 1.12815215, -1.42456879,  0.57529113, -1.56062674],\n",
       "       [-0.88640526, -0.27630176,  0.57529113,  0.84631002],\n",
       "       [-0.88640526,  1.30256542,  0.61493904, -1.75473454],\n",
       "       [ 1.12815215, -0.49160182,  0.61493904,  1.6615628 ],\n",
       "       [-0.88640526, -0.77866858,  0.65458695, -0.39597992],\n",
       "       [-0.88640526, -0.49160182,  0.65458695,  1.42863343],\n",
       "       [ 1.12815215, -0.99396865,  0.69423486, -1.48298362],\n",
       "       [ 1.12815215, -0.77866858,  0.69423486,  1.81684904],\n",
       "       [ 1.12815215,  0.65666521,  0.69423486, -0.55126616],\n",
       "       [-0.88640526, -0.49160182,  0.69423486,  0.92395314],\n",
       "       [-0.88640526, -0.34806844,  0.73388276, -1.09476801],\n",
       "       [ 1.12815215, -0.34806844,  0.73388276,  1.54509812],\n",
       "       [ 1.12815215,  0.29783176,  0.73388276, -1.28887582],\n",
       "       [ 1.12815215,  0.010765  ,  0.73388276,  1.46745499],\n",
       "       [-0.88640526,  0.36959845,  0.73388276, -1.17241113],\n",
       "       [-0.88640526, -0.06100169,  0.73388276,  1.00159627],\n",
       "       [-0.88640526,  0.58489852,  0.73388276, -1.32769738],\n",
       "       [-0.88640526, -0.85043527,  0.73388276,  1.50627656],\n",
       "       [ 1.12815215, -0.13276838,  0.73388276, -1.91002079],\n",
       "       [-0.88640526, -0.6351352 ,  0.73388276,  1.07923939],\n",
       "       [ 1.12815215, -0.34806844,  0.73388276, -1.91002079],\n",
       "       [-0.88640526, -0.6351352 ,  0.73388276,  0.88513158],\n",
       "       [-0.88640526,  1.23079873,  0.77353067, -0.59008772],\n",
       "       [-0.88640526, -0.70690189,  0.77353067,  1.27334719],\n",
       "       [ 1.12815215, -1.42456879,  0.85282648, -1.75473454],\n",
       "       [-0.88640526, -0.56336851,  0.85282648,  1.6615628 ],\n",
       "       [ 1.12815215,  0.80019859,  1.01141811, -0.93948177],\n",
       "       [-0.88640526, -0.20453507,  1.01141811,  0.96277471],\n",
       "       [ 1.12815215,  0.22606507,  1.05106602, -1.17241113],\n",
       "       [-0.88640526, -0.41983513,  1.05106602,  1.73920592],\n",
       "       [-0.88640526, -0.20453507,  1.09071393, -0.90066021],\n",
       "       [ 1.12815215, -0.49160182,  1.09071393,  0.49691598],\n",
       "       [ 1.12815215,  0.08253169,  1.09071393, -1.44416206],\n",
       "       [ 1.12815215, -0.77866858,  1.09071393,  0.96277471],\n",
       "       [ 1.12815215, -0.20453507,  1.09071393, -1.56062674],\n",
       "       [ 1.12815215, -0.20453507,  1.09071393,  1.62274124],\n",
       "       [-0.88640526,  0.94373197,  1.13036183, -1.44416206],\n",
       "       [-0.88640526, -0.6351352 ,  1.13036183,  1.38981187],\n",
       "       [ 1.12815215,  1.37433211,  1.13036183, -1.36651894],\n",
       "       [ 1.12815215, -0.85043527,  1.13036183,  0.72984534],\n",
       "       [ 1.12815215,  1.4460988 ,  1.32860137, -1.4053405 ],\n",
       "       [ 1.12815215, -0.27630176,  1.32860137,  1.54509812],\n",
       "       [-0.88640526, -0.13276838,  1.487193  , -0.7065524 ],\n",
       "       [-0.88640526, -0.49160182,  1.487193  ,  1.38981187],\n",
       "       [ 1.12815215,  0.51313183,  1.52684091, -1.36651894],\n",
       "       [-0.88640526, -0.70690189,  1.52684091,  1.46745499],\n",
       "       [-0.88640526,  0.15429838,  1.56648881, -0.43480148],\n",
       "       [ 1.12815215, -0.6351352 ,  1.56648881,  1.81684904],\n",
       "       [-0.88640526,  1.08726535,  1.64578463, -1.01712489],\n",
       "       [ 1.12815215, -0.77866858,  1.64578463,  0.69102378],\n",
       "       [-0.88640526,  0.15429838,  1.72508044, -1.28887582],\n",
       "       [-0.88640526, -0.20453507,  1.72508044,  1.35099031],\n",
       "       [-0.88640526, -0.34806844,  1.72508044, -1.05594645],\n",
       "       [-0.88640526, -0.49160182,  1.72508044,  0.72984534],\n",
       "       [ 1.12815215, -0.41983513,  2.12155952, -1.63826986],\n",
       "       [-0.88640526, -0.06100169,  2.12155952,  1.58391968],\n",
       "       [-0.88640526,  0.58489852,  2.39909487, -1.32769738],\n",
       "       [-0.88640526, -0.27630176,  2.39909487,  1.11806095],\n",
       "       [-0.88640526,  0.44136514,  2.63698231, -0.86183865],\n",
       "       [ 1.12815215, -0.49160182,  2.63698231,  0.92395314],\n",
       "       [ 1.12815215, -0.49160182, -1.16921678, -1.25005425],\n",
       "       [ 1.12815215, -0.6351352 , -1.16921678,  1.27334719]])"
      ]
     },
     "execution_count": 147,
     "metadata": {},
     "output_type": "execute_result"
    }
   ],
   "source": [
    "#scaling\n",
    "from sklearn.preprocessing import scale\n",
    "X_scaled=scale(p)\n",
    "X_scaled"
   ]
  },
  {
   "cell_type": "code",
   "execution_count": null,
   "id": "99c37ba7",
   "metadata": {},
   "outputs": [],
   "source": [
    "#9. Perform any of the clustering algorithms"
   ]
  },
  {
   "cell_type": "code",
   "execution_count": 148,
   "id": "6a559d69",
   "metadata": {},
   "outputs": [
    {
     "data": {
      "text/html": [
       "<div>\n",
       "<style scoped>\n",
       "    .dataframe tbody tr th:only-of-type {\n",
       "        vertical-align: middle;\n",
       "    }\n",
       "\n",
       "    .dataframe tbody tr th {\n",
       "        vertical-align: top;\n",
       "    }\n",
       "\n",
       "    .dataframe thead th {\n",
       "        text-align: right;\n",
       "    }\n",
       "</style>\n",
       "<table border=\"1\" class=\"dataframe\">\n",
       "  <thead>\n",
       "    <tr style=\"text-align: right;\">\n",
       "      <th></th>\n",
       "      <th>CustomerID</th>\n",
       "      <th>Gender</th>\n",
       "      <th>Age</th>\n",
       "      <th>annual_income</th>\n",
       "    </tr>\n",
       "  </thead>\n",
       "  <tbody>\n",
       "    <tr>\n",
       "      <th>0</th>\n",
       "      <td>1</td>\n",
       "      <td>1</td>\n",
       "      <td>19</td>\n",
       "      <td>15</td>\n",
       "    </tr>\n",
       "    <tr>\n",
       "      <th>1</th>\n",
       "      <td>2</td>\n",
       "      <td>1</td>\n",
       "      <td>21</td>\n",
       "      <td>15</td>\n",
       "    </tr>\n",
       "    <tr>\n",
       "      <th>2</th>\n",
       "      <td>3</td>\n",
       "      <td>0</td>\n",
       "      <td>20</td>\n",
       "      <td>16</td>\n",
       "    </tr>\n",
       "    <tr>\n",
       "      <th>3</th>\n",
       "      <td>4</td>\n",
       "      <td>0</td>\n",
       "      <td>23</td>\n",
       "      <td>16</td>\n",
       "    </tr>\n",
       "    <tr>\n",
       "      <th>4</th>\n",
       "      <td>5</td>\n",
       "      <td>0</td>\n",
       "      <td>31</td>\n",
       "      <td>17</td>\n",
       "    </tr>\n",
       "  </tbody>\n",
       "</table>\n",
       "</div>"
      ],
      "text/plain": [
       "   CustomerID  Gender  Age  annual_income\n",
       "0           1       1   19             15\n",
       "1           2       1   21             15\n",
       "2           3       0   20             16\n",
       "3           4       0   23             16\n",
       "4           5       0   31             17"
      ]
     },
     "execution_count": 148,
     "metadata": {},
     "output_type": "execute_result"
    }
   ],
   "source": [
    "new_df=df.iloc[:,:-1]\n",
    "new_df.head()"
   ]
  },
  {
   "cell_type": "code",
   "execution_count": 149,
   "id": "3498a13c",
   "metadata": {},
   "outputs": [
    {
     "data": {
      "text/plain": [
       "(200, 4)"
      ]
     },
     "execution_count": 149,
     "metadata": {},
     "output_type": "execute_result"
    }
   ],
   "source": [
    "new_df.shape"
   ]
  },
  {
   "cell_type": "code",
   "execution_count": 150,
   "id": "47498ff8",
   "metadata": {},
   "outputs": [],
   "source": [
    "from sklearn.cluster import KMeans"
   ]
  },
  {
   "cell_type": "code",
   "execution_count": 151,
   "id": "f9b0eca2",
   "metadata": {},
   "outputs": [
    {
     "data": {
      "text/plain": [
       "array([1, 1, 2, 3, 2, 3, 2, 3, 4, 3, 4, 3, 2, 3, 4, 1, 2, 1, 4, 3, 4, 1,\n",
       "       2, 1, 2, 1, 2, 1, 2, 3, 4, 3, 4, 1, 2, 3, 2, 3, 2, 3, 2, 1, 4, 3,\n",
       "       2, 3, 2, 3, 3, 3, 2, 1, 3, 4, 2, 4, 2, 4, 3, 4, 4, 1, 2, 2, 4, 1,\n",
       "       2, 2, 1, 3, 4, 2, 2, 2, 4, 1, 2, 4, 3, 2, 4, 1, 4, 2, 3, 4, 2, 3,\n",
       "       3, 2, 2, 1, 4, 2, 3, 1, 2, 3, 4, 1, 3, 2, 4, 1, 4, 3, 2, 4, 4, 4,\n",
       "       4, 3, 2, 1, 3, 3, 2, 2, 2, 2, 1, 2, 3, 1, 3, 3, 4, 1, 4, 1, 0, 1,\n",
       "       3, 3, 0, 3, 0, 1, 0, 3, 0, 1, 3, 3, 0, 1, 4, 3, 0, 1, 0, 1, 0, 3,\n",
       "       0, 3, 0, 3, 0, 3, 2, 3, 0, 3, 0, 3, 0, 3, 0, 1, 0, 1, 0, 1, 0, 3,\n",
       "       0, 1, 0, 1, 0, 3, 0, 3, 0, 1, 0, 1, 0, 3, 0, 3, 0, 3, 0, 3, 0, 1,\n",
       "       4, 1])"
      ]
     },
     "execution_count": 151,
     "metadata": {},
     "output_type": "execute_result"
    }
   ],
   "source": [
    "Kmeans = KMeans(n_clusters=5)\n",
    "y = Kmeans.fit_predict(X_scaled)\n",
    "y"
   ]
  },
  {
   "cell_type": "code",
   "execution_count": 152,
   "id": "17b77ed2",
   "metadata": {},
   "outputs": [],
   "source": [
    "#11.Split the data into dependent and independent variables"
   ]
  },
  {
   "cell_type": "code",
   "execution_count": 153,
   "id": "66a669cc",
   "metadata": {},
   "outputs": [],
   "source": [
    "#12. Split the data into training and testing"
   ]
  },
  {
   "cell_type": "code",
   "execution_count": 154,
   "id": "887d7f63",
   "metadata": {},
   "outputs": [
    {
     "data": {
      "text/plain": [
       "(160, 4)"
      ]
     },
     "execution_count": 154,
     "metadata": {},
     "output_type": "execute_result"
    }
   ],
   "source": [
    "from sklearn.model_selection import train_test_split\n",
    "# split the dtset\n",
    "X_train, X_test, Y_train, Y_test = train_test_split(X_scaled, y, test_size=0.20, random_state=0)\n",
    "X_train.shape\n",
    "\n"
   ]
  },
  {
   "cell_type": "code",
   "execution_count": 155,
   "id": "0eeec3bf",
   "metadata": {},
   "outputs": [
    {
     "data": {
      "text/plain": [
       "(40, 4)"
      ]
     },
     "execution_count": 155,
     "metadata": {},
     "output_type": "execute_result"
    }
   ],
   "source": [
    "X_test.shape\n"
   ]
  },
  {
   "cell_type": "code",
   "execution_count": 156,
   "id": "ca24922e",
   "metadata": {},
   "outputs": [
    {
     "data": {
      "text/plain": [
       "(160,)"
      ]
     },
     "execution_count": 156,
     "metadata": {},
     "output_type": "execute_result"
    }
   ],
   "source": [
    "\n",
    "Y_train.shape\n"
   ]
  },
  {
   "cell_type": "code",
   "execution_count": 157,
   "id": "bc704b58",
   "metadata": {},
   "outputs": [
    {
     "data": {
      "text/plain": [
       "(40,)"
      ]
     },
     "execution_count": 157,
     "metadata": {},
     "output_type": "execute_result"
    }
   ],
   "source": [
    "\n",
    "Y_test.shape"
   ]
  },
  {
   "cell_type": "code",
   "execution_count": 158,
   "id": "32700a2b",
   "metadata": {},
   "outputs": [],
   "source": [
    "#13. Build the Model"
   ]
  },
  {
   "cell_type": "code",
   "execution_count": 159,
   "id": "64a7412b",
   "metadata": {},
   "outputs": [
    {
     "data": {
      "text/plain": [
       "KNeighborsClassifier()"
      ]
     },
     "execution_count": 159,
     "metadata": {},
     "output_type": "execute_result"
    }
   ],
   "source": [
    "from sklearn.neighbors import KNeighborsClassifier\n",
    "knn = KNeighborsClassifier(n_neighbors=5)\n",
    "knn"
   ]
  },
  {
   "cell_type": "code",
   "execution_count": 160,
   "id": "18680936",
   "metadata": {},
   "outputs": [],
   "source": [
    "#14. Train the Model"
   ]
  },
  {
   "cell_type": "code",
   "execution_count": 161,
   "id": "e1e79eca",
   "metadata": {},
   "outputs": [
    {
     "data": {
      "text/plain": [
       "KNeighborsClassifier()"
      ]
     },
     "execution_count": 161,
     "metadata": {},
     "output_type": "execute_result"
    }
   ],
   "source": [
    "knn.fit(X_train,Y_train)"
   ]
  },
  {
   "cell_type": "code",
   "execution_count": 162,
   "id": "a11b156c",
   "metadata": {},
   "outputs": [],
   "source": [
    "#15Test the Model"
   ]
  },
  {
   "cell_type": "code",
   "execution_count": 163,
   "id": "5cbdbe52",
   "metadata": {},
   "outputs": [],
   "source": [
    "pred=knn.predict(X_test)"
   ]
  },
  {
   "cell_type": "code",
   "execution_count": 164,
   "id": "3bdfeb16",
   "metadata": {},
   "outputs": [
    {
     "data": {
      "text/plain": [
       "array([4, 0, 4, 4, 1, 0, 3, 4, 2, 0, 1, 3, 0, 0, 4, 3, 1, 0, 3, 4, 3, 1,\n",
       "       3, 3, 4, 1, 1, 1, 2, 2, 2, 4, 0, 3, 2, 3, 1, 3, 2, 2])"
      ]
     },
     "execution_count": 164,
     "metadata": {},
     "output_type": "execute_result"
    }
   ],
   "source": [
    "pred"
   ]
  },
  {
   "cell_type": "code",
   "execution_count": 165,
   "id": "1530471a",
   "metadata": {},
   "outputs": [],
   "source": [
    "#16 Measure the performance using Evaluation Metrics"
   ]
  },
  {
   "cell_type": "code",
   "execution_count": 166,
   "id": "9e22ceb1",
   "metadata": {},
   "outputs": [
    {
     "name": "stdout",
     "output_type": "stream",
     "text": [
      "Accuracy score: 0.95\n"
     ]
    }
   ],
   "source": [
    "from sklearn.metrics import accuracy_score,precision_score,confusion_matrix\n",
    "print(\"Accuracy score:\",accuracy_score(Y_test,pred))"
   ]
  },
  {
   "cell_type": "code",
   "execution_count": 167,
   "id": "e2614148",
   "metadata": {},
   "outputs": [
    {
     "name": "stdout",
     "output_type": "stream",
     "text": [
      "Precision score: 0.9514285714285714\n"
     ]
    }
   ],
   "source": [
    "print(\"Precision score:\",precision_score(Y_test,pred,average = \"macro\"))"
   ]
  },
  {
   "cell_type": "code",
   "execution_count": 168,
   "id": "32ab3483",
   "metadata": {},
   "outputs": [
    {
     "data": {
      "image/png": "[encoded data removed]",
      "text/plain": [
       "<Figure size 432x288 with 2 Axes>"
      ]
     },
     "metadata": {
      "needs_background": "light"
     },
     "output_type": "display_data"
    }
   ],
   "source": [
    "cf=confusion_matrix(Y_test,pred)\n",
    "sns.heatmap(cf,cmap='coolwarm',annot=True)\n",
    "plt.xlabel(\"Prediction\")\n",
    "plt.ylabel(\"Actual\")\n",
    "plt.show()"
   ]
  },
  {
   "cell_type": "code",
   "execution_count": 169,
   "id": "d634a8b0",
   "metadata": {},
   "outputs": [],
   "source": [
    "#Perform Metrics\n",
    "# importing metrics \n",
    "from sklearn.metrics import mean_absolute_error,mean_squared_error,r2_score"
   ]
  },
  {
   "cell_type": "code",
   "execution_count": 170,
   "id": "37ad51c5",
   "metadata": {},
   "outputs": [
    {
     "name": "stdout",
     "output_type": "stream",
     "text": [
      "r2_score : 0.9742268041237113\n",
      "MSE : 0.05\n",
      "MAE : 0.05\n",
      "RMSE : 0.22360679774997896\n"
     ]
    }
   ],
   "source": [
    "print(\"r2_score :\",r2_score(Y_test,pred))\n",
    "print(\"MSE :\",mean_squared_error(Y_test,pred))\n",
    "print(\"MAE :\",mean_absolute_error(Y_test,pred))\n",
    "print(\"RMSE :\",np.sqrt(mean_squared_error(Y_test,pred)))"
   ]
  },
  {
   "cell_type": "code",
   "execution_count": null,
   "id": "833c5425",
   "metadata": {},
   "outputs": [],
   "source": []
  }
 ],
 "metadata": {
  "kernelspec": {
   "display_name": "Python 3",
   "language": "python",
   "name": "python3"
  },
  "language_info": {
   "codemirror_mode": {
    "name": "ipython",
    "version": 3
   },
   "file_extension": ".py",
   "mimetype": "text/x-python",
   "name": "python",
   "nbconvert_exporter": "python",
   "pygments_lexer": "ipython3",
   "version": "3.8.8"
  }
 },
 "nbformat": 4,
 "nbformat_minor": 5
}
