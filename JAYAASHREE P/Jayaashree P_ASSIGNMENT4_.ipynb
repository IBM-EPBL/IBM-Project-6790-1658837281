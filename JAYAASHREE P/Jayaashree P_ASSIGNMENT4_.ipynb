{
 "cells": [
  {
   "cell_type": "code",
   "execution_count": 31,
   "id": "7226e369",
   "metadata": {},
   "outputs": [],
   "source": [
    "# import required libraries\n",
    "\n",
    "import pandas as pd\n",
    "import numpy as np\n",
    "import matplotlib.pyplot as plt\n",
    "import seaborn as sns\n",
    "from matplotlib import rcParams"
   ]
  },
  {
   "cell_type": "code",
   "execution_count": 32,
   "id": "9fe15f56",
   "metadata": {},
   "outputs": [
    {
     "data": {
      "text/html": [
       "<div>\n",
       "<style scoped>\n",
       "    .dataframe tbody tr th:only-of-type {\n",
       "        vertical-align: middle;\n",
       "    }\n",
       "\n",
       "    .dataframe tbody tr th {\n",
       "        vertical-align: top;\n",
       "    }\n",
       "\n",
       "    .dataframe thead th {\n",
       "        text-align: right;\n",
       "    }\n",
       "</style>\n",
       "<table border=\"1\" class=\"dataframe\">\n",
       "  <thead>\n",
       "    <tr style=\"text-align: right;\">\n",
       "      <th></th>\n",
       "      <th>CustomerID</th>\n",
       "      <th>Gender</th>\n",
       "      <th>Age</th>\n",
       "      <th>Annual Income (k$)</th>\n",
       "      <th>Spending Score (1-100)</th>\n",
       "    </tr>\n",
       "  </thead>\n",
       "  <tbody>\n",
       "    <tr>\n",
       "      <th>0</th>\n",
       "      <td>1</td>\n",
       "      <td>Male</td>\n",
       "      <td>19</td>\n",
       "      <td>15</td>\n",
       "      <td>39</td>\n",
       "    </tr>\n",
       "    <tr>\n",
       "      <th>1</th>\n",
       "      <td>2</td>\n",
       "      <td>Male</td>\n",
       "      <td>21</td>\n",
       "      <td>15</td>\n",
       "      <td>81</td>\n",
       "    </tr>\n",
       "    <tr>\n",
       "      <th>2</th>\n",
       "      <td>3</td>\n",
       "      <td>Female</td>\n",
       "      <td>20</td>\n",
       "      <td>16</td>\n",
       "      <td>6</td>\n",
       "    </tr>\n",
       "    <tr>\n",
       "      <th>3</th>\n",
       "      <td>4</td>\n",
       "      <td>Female</td>\n",
       "      <td>23</td>\n",
       "      <td>16</td>\n",
       "      <td>77</td>\n",
       "    </tr>\n",
       "    <tr>\n",
       "      <th>4</th>\n",
       "      <td>5</td>\n",
       "      <td>Female</td>\n",
       "      <td>31</td>\n",
       "      <td>17</td>\n",
       "      <td>40</td>\n",
       "    </tr>\n",
       "  </tbody>\n",
       "</table>\n",
       "</div>"
      ],
      "text/plain": [
       "   CustomerID  Gender  Age  Annual Income (k$)  Spending Score (1-100)\n",
       "0           1    Male   19                  15                      39\n",
       "1           2    Male   21                  15                      81\n",
       "2           3  Female   20                  16                       6\n",
       "3           4  Female   23                  16                      77\n",
       "4           5  Female   31                  17                      40"
      ]
     },
     "execution_count": 32,
     "metadata": {},
     "output_type": "execute_result"
    }
   ],
   "source": [
    "# 2. Load the dataset into the tool.\n",
    "\n",
    "df=pd.read_csv('Mall_Customers.csv')\n",
    "df.head()"
   ]
  },
  {
   "cell_type": "code",
   "execution_count": 33,
   "id": "e21ce48d",
   "metadata": {},
   "outputs": [],
   "source": [
    "#3. Perform Below Visualizations.\n",
    "#∙ Univariate Analysis\n",
    "#∙ Bi- Variate Analysis\n",
    "#∙ Multi-Variate Analysis"
   ]
  },
  {
   "cell_type": "code",
   "execution_count": 34,
   "id": "ea8697f8",
   "metadata": {},
   "outputs": [],
   "source": [
    "df.rename(columns={\"Annual Income (k$)\":\"annual_income\",\"Spending Score (1-100)\":\"spending_scores\"},inplace=True)"
   ]
  },
  {
   "cell_type": "code",
   "execution_count": 35,
   "id": "ff1c0baf",
   "metadata": {},
   "outputs": [
    {
     "name": "stderr",
     "output_type": "stream",
     "text": [
      "C:\\Users\\91967\\anaconda3\\lib\\site-packages\\seaborn\\distributions.py:2619: FutureWarning: `distplot` is a deprecated function and will be removed in a future version. Please adapt your code to use either `displot` (a figure-level function with similar flexibility) or `histplot` (an axes-level function for histograms).\n",
      "  warnings.warn(msg, FutureWarning)\n"
     ]
    },
    {
     "data": {
      "text/plain": [
       "<AxesSubplot:xlabel='Age', ylabel='Density'>"
      ]
     },
     "execution_count": 35,
     "metadata": {},
     "output_type": "execute_result"
    },
    {
     "data": {
      "image/png": "[encoded data removed]",
      "text/plain": [
       "<Figure size 432x288 with 1 Axes>"
      ]
     },
     "metadata": {
      "needs_background": "light"
     },
     "output_type": "display_data"
    }
   ],
   "source": [
    "#Univariate Analysis\n",
    "sns.distplot(df.Age)"
   ]
  },
  {
   "cell_type": "code",
   "execution_count": 36,
   "id": "722527c7",
   "metadata": {},
   "outputs": [
    {
     "name": "stderr",
     "output_type": "stream",
     "text": [
      "C:\\Users\\91967\\anaconda3\\lib\\site-packages\\seaborn\\_decorators.py:36: FutureWarning: Pass the following variables as keyword args: x, y. From version 0.12, the only valid positional argument will be `data`, and passing other arguments without an explicit keyword will result in an error or misinterpretation.\n",
      "  warnings.warn(\n"
     ]
    },
    {
     "data": {
      "text/plain": [
       "<AxesSubplot:xlabel='Age', ylabel='spending_scores'>"
      ]
     },
     "execution_count": 36,
     "metadata": {},
     "output_type": "execute_result"
    },
    {
     "data": {
      "image/png": "[encoded data removed]",
      "text/plain": [
       "<Figure size 432x288 with 1 Axes>"
      ]
     },
     "metadata": {
      "needs_background": "light"
     },
     "output_type": "display_data"
    }
   ],
   "source": [
    "# Bi- Variate Analysis\n",
    "sns.lineplot(df.Age,df.spending_scores)"
   ]
  },
  {
   "cell_type": "code",
   "execution_count": 37,
   "id": "3cc7cc28",
   "metadata": {},
   "outputs": [],
   "source": [
    "# countplot( (bivariate analysis(involves two columns))\n",
    "def countplot_of_2(x,hue,title=None,figsize=(6,5)):\n",
    "    plt.figure(figsize=figsize)\n",
    "    sns.countplot(data=df[[x,hue]],x=x,hue=hue)\n",
    "    plt.title(title)\n",
    "    plt.show()"
   ]
  },
  {
   "cell_type": "code",
   "execution_count": 38,
   "id": "ee11c36f",
   "metadata": {},
   "outputs": [
    {
     "data": {
      "image/png": "[encoded data removed]",
      "text/plain": [
       "<Figure size 432x360 with 1 Axes>"
      ]
     },
     "metadata": {
      "needs_background": "light"
     },
     "output_type": "display_data"
    }
   ],
   "source": [
    "countplot_of_2('Gender','spending_scores','Gender/spending_scores')"
   ]
  },
  {
   "cell_type": "code",
   "execution_count": 39,
   "id": "6b87efbf",
   "metadata": {},
   "outputs": [
    {
     "data": {
      "text/plain": [
       "<seaborn.axisgrid.PairGrid at 0x19781f66b20>"
      ]
     },
     "execution_count": 39,
     "metadata": {},
     "output_type": "execute_result"
    },
    {
     "data": {
      "image/png": "[encoded data removed]",
      "text/plain": [
       "<Figure size 720x720 with 20 Axes>"
      ]
     },
     "metadata": {
      "needs_background": "light"
     },
     "output_type": "display_data"
    }
   ],
   "source": [
    "#Multi-Variate Analysis\n",
    "sns.pairplot(df)"
   ]
  },
  {
   "cell_type": "code",
   "execution_count": 40,
   "id": "4ea145e6",
   "metadata": {},
   "outputs": [],
   "source": [
    "#4. Perform descriptive statistics on the dataset."
   ]
  },
  {
   "cell_type": "code",
   "execution_count": 41,
   "id": "502cf247",
   "metadata": {},
   "outputs": [
    {
     "data": {
      "text/plain": [
       "(200, 5)"
      ]
     },
     "execution_count": 41,
     "metadata": {},
     "output_type": "execute_result"
    }
   ],
   "source": [
    "df.shape"
   ]
  },
  {
   "cell_type": "code",
   "execution_count": 42,
   "id": "e16cb24a",
   "metadata": {},
   "outputs": [
    {
     "name": "stdout",
     "output_type": "stream",
     "text": [
      "<class 'pandas.core.frame.DataFrame'>\n",
      "RangeIndex: 200 entries, 0 to 199\n",
      "Data columns (total 5 columns):\n",
      " #   Column           Non-Null Count  Dtype \n",
      "---  ------           --------------  ----- \n",
      " 0   CustomerID       200 non-null    int64 \n",
      " 1   Gender           200 non-null    object\n",
      " 2   Age              200 non-null    int64 \n",
      " 3   annual_income    200 non-null    int64 \n",
      " 4   spending_scores  200 non-null    int64 \n",
      "dtypes: int64(4), object(1)\n",
      "memory usage: 7.9+ KB\n"
     ]
    }
   ],
   "source": [
    "df.info()"
   ]
  },
  {
   "cell_type": "code",
   "execution_count": 43,
   "id": "c9e5477c",
   "metadata": {},
   "outputs": [
    {
     "data": {
      "text/html": [
       "<div>\n",
       "<style scoped>\n",
       "    .dataframe tbody tr th:only-of-type {\n",
       "        vertical-align: middle;\n",
       "    }\n",
       "\n",
       "    .dataframe tbody tr th {\n",
       "        vertical-align: top;\n",
       "    }\n",
       "\n",
       "    .dataframe thead th {\n",
       "        text-align: right;\n",
       "    }\n",
       "</style>\n",
       "<table border=\"1\" class=\"dataframe\">\n",
       "  <thead>\n",
       "    <tr style=\"text-align: right;\">\n",
       "      <th></th>\n",
       "      <th>CustomerID</th>\n",
       "      <th>Age</th>\n",
       "      <th>annual_income</th>\n",
       "      <th>spending_scores</th>\n",
       "    </tr>\n",
       "  </thead>\n",
       "  <tbody>\n",
       "    <tr>\n",
       "      <th>count</th>\n",
       "      <td>200.000000</td>\n",
       "      <td>200.000000</td>\n",
       "      <td>200.000000</td>\n",
       "      <td>200.000000</td>\n",
       "    </tr>\n",
       "    <tr>\n",
       "      <th>mean</th>\n",
       "      <td>100.500000</td>\n",
       "      <td>38.850000</td>\n",
       "      <td>60.560000</td>\n",
       "      <td>50.200000</td>\n",
       "    </tr>\n",
       "    <tr>\n",
       "      <th>std</th>\n",
       "      <td>57.879185</td>\n",
       "      <td>13.969007</td>\n",
       "      <td>26.264721</td>\n",
       "      <td>25.823522</td>\n",
       "    </tr>\n",
       "    <tr>\n",
       "      <th>min</th>\n",
       "      <td>1.000000</td>\n",
       "      <td>18.000000</td>\n",
       "      <td>15.000000</td>\n",
       "      <td>1.000000</td>\n",
       "    </tr>\n",
       "    <tr>\n",
       "      <th>25%</th>\n",
       "      <td>50.750000</td>\n",
       "      <td>28.750000</td>\n",
       "      <td>41.500000</td>\n",
       "      <td>34.750000</td>\n",
       "    </tr>\n",
       "    <tr>\n",
       "      <th>50%</th>\n",
       "      <td>100.500000</td>\n",
       "      <td>36.000000</td>\n",
       "      <td>61.500000</td>\n",
       "      <td>50.000000</td>\n",
       "    </tr>\n",
       "    <tr>\n",
       "      <th>75%</th>\n",
       "      <td>150.250000</td>\n",
       "      <td>49.000000</td>\n",
       "      <td>78.000000</td>\n",
       "      <td>73.000000</td>\n",
       "    </tr>\n",
       "    <tr>\n",
       "      <th>max</th>\n",
       "      <td>200.000000</td>\n",
       "      <td>70.000000</td>\n",
       "      <td>137.000000</td>\n",
       "      <td>99.000000</td>\n",
       "    </tr>\n",
       "  </tbody>\n",
       "</table>\n",
       "</div>"
      ],
      "text/plain": [
       "       CustomerID         Age  annual_income  spending_scores\n",
       "count  200.000000  200.000000     200.000000       200.000000\n",
       "mean   100.500000   38.850000      60.560000        50.200000\n",
       "std     57.879185   13.969007      26.264721        25.823522\n",
       "min      1.000000   18.000000      15.000000         1.000000\n",
       "25%     50.750000   28.750000      41.500000        34.750000\n",
       "50%    100.500000   36.000000      61.500000        50.000000\n",
       "75%    150.250000   49.000000      78.000000        73.000000\n",
       "max    200.000000   70.000000     137.000000        99.000000"
      ]
     },
     "execution_count": 43,
     "metadata": {},
     "output_type": "execute_result"
    }
   ],
   "source": [
    "df.describe()"
   ]
  },
  {
   "cell_type": "code",
   "execution_count": 44,
   "id": "16e90bb9",
   "metadata": {},
   "outputs": [
    {
     "name": "stdout",
     "output_type": "stream",
     "text": [
      "     CustomerID  Gender  Age  annual_income  spending_scores\n",
      "0             1    Male   19             15               39\n",
      "1             2    Male   21             15               81\n",
      "2             3  Female   20             16                6\n",
      "3             4  Female   23             16               77\n",
      "4             5  Female   31             17               40\n",
      "..          ...     ...  ...            ...              ...\n",
      "195         196  Female   35            120               79\n",
      "196         197  Female   45            126               28\n",
      "197         198    Male   32            126               74\n",
      "198         199    Male   32            137               18\n",
      "199         200    Male   30            137               83\n",
      "\n",
      "[200 rows x 5 columns]\n"
     ]
    }
   ],
   "source": [
    "data=pd.DataFrame(df)\n",
    "print(data)"
   ]
  },
  {
   "cell_type": "code",
   "execution_count": 45,
   "id": "068c1be1",
   "metadata": {},
   "outputs": [
    {
     "name": "stdout",
     "output_type": "stream",
     "text": [
      "CustomerID                                                     20100\n",
      "Gender             MaleMaleFemaleFemaleFemaleFemaleFemaleFemaleMa...\n",
      "Age                                                             7770\n",
      "annual_income                                                  12112\n",
      "spending_scores                                                10040\n",
      "dtype: object\n"
     ]
    }
   ],
   "source": [
    "print(data.sum())"
   ]
  },
  {
   "cell_type": "code",
   "execution_count": 46,
   "id": "288bc6d7",
   "metadata": {},
   "outputs": [
    {
     "name": "stdout",
     "output_type": "stream",
     "text": [
      "CustomerID         100.50\n",
      "Age                 38.85\n",
      "annual_income       60.56\n",
      "spending_scores     50.20\n",
      "dtype: float64\n"
     ]
    },
    {
     "name": "stderr",
     "output_type": "stream",
     "text": [
      "C:\\Users\\91967\\AppData\\Local\\Temp\\ipykernel_13704\\2101390418.py:1: FutureWarning: Dropping of nuisance columns in DataFrame reductions (with 'numeric_only=None') is deprecated; in a future version this will raise TypeError.  Select only valid columns before calling the reduction.\n",
      "  print(data.mean())\n"
     ]
    }
   ],
   "source": [
    "print(data.mean())"
   ]
  },
  {
   "cell_type": "code",
   "execution_count": 47,
   "id": "136ca941",
   "metadata": {},
   "outputs": [
    {
     "name": "stderr",
     "output_type": "stream",
     "text": [
      "C:\\Users\\91967\\AppData\\Local\\Temp\\ipykernel_13704\\4184645713.py:1: FutureWarning: Dropping of nuisance columns in DataFrame reductions (with 'numeric_only=None') is deprecated; in a future version this will raise TypeError.  Select only valid columns before calling the reduction.\n",
      "  data.median()\n"
     ]
    },
    {
     "data": {
      "text/plain": [
       "CustomerID         100.5\n",
       "Age                 36.0\n",
       "annual_income       61.5\n",
       "spending_scores     50.0\n",
       "dtype: float64"
      ]
     },
     "execution_count": 47,
     "metadata": {},
     "output_type": "execute_result"
    }
   ],
   "source": [
    "data.median()"
   ]
  },
  {
   "cell_type": "code",
   "execution_count": 48,
   "id": "04e83688",
   "metadata": {},
   "outputs": [
    {
     "name": "stdout",
     "output_type": "stream",
     "text": [
      "CustomerID         57.879185\n",
      "Age                13.969007\n",
      "annual_income      26.264721\n",
      "spending_scores    25.823522\n",
      "dtype: float64\n"
     ]
    },
    {
     "name": "stderr",
     "output_type": "stream",
     "text": [
      "C:\\Users\\91967\\AppData\\Local\\Temp\\ipykernel_13704\\691007357.py:1: FutureWarning: Dropping of nuisance columns in DataFrame reductions (with 'numeric_only=None') is deprecated; in a future version this will raise TypeError.  Select only valid columns before calling the reduction.\n",
      "  print(data.std())\n"
     ]
    }
   ],
   "source": [
    "print(data.std())"
   ]
  },
  {
   "cell_type": "code",
   "execution_count": 49,
   "id": "398b5427",
   "metadata": {},
   "outputs": [],
   "source": [
    "#5. Check for Missing values and deal with them."
   ]
  },
  {
   "cell_type": "code",
   "execution_count": 50,
   "id": "7871aeee",
   "metadata": {},
   "outputs": [
    {
     "data": {
      "text/plain": [
       "CustomerID         False\n",
       "Gender             False\n",
       "Age                False\n",
       "annual_income      False\n",
       "spending_scores    False\n",
       "dtype: bool"
      ]
     },
     "execution_count": 50,
     "metadata": {},
     "output_type": "execute_result"
    }
   ],
   "source": [
    "df.isnull().any()"
   ]
  },
  {
   "cell_type": "code",
   "execution_count": 51,
   "id": "ce9eeb77",
   "metadata": {},
   "outputs": [
    {
     "data": {
      "text/plain": [
       "0"
      ]
     },
     "execution_count": 51,
     "metadata": {},
     "output_type": "execute_result"
    }
   ],
   "source": [
    "df.isnull().sum().sum()"
   ]
  },
  {
   "cell_type": "code",
   "execution_count": 52,
   "id": "968e00f7",
   "metadata": {},
   "outputs": [
    {
     "data": {
      "text/html": [
       "<div>\n",
       "<style scoped>\n",
       "    .dataframe tbody tr th:only-of-type {\n",
       "        vertical-align: middle;\n",
       "    }\n",
       "\n",
       "    .dataframe tbody tr th {\n",
       "        vertical-align: top;\n",
       "    }\n",
       "\n",
       "    .dataframe thead th {\n",
       "        text-align: right;\n",
       "    }\n",
       "</style>\n",
       "<table border=\"1\" class=\"dataframe\">\n",
       "  <thead>\n",
       "    <tr style=\"text-align: right;\">\n",
       "      <th></th>\n",
       "      <th>CustomerID</th>\n",
       "      <th>Gender</th>\n",
       "      <th>Age</th>\n",
       "      <th>annual_income</th>\n",
       "      <th>spending_scores</th>\n",
       "    </tr>\n",
       "  </thead>\n",
       "  <tbody>\n",
       "    <tr>\n",
       "      <th>0</th>\n",
       "      <td>False</td>\n",
       "      <td>False</td>\n",
       "      <td>False</td>\n",
       "      <td>False</td>\n",
       "      <td>False</td>\n",
       "    </tr>\n",
       "    <tr>\n",
       "      <th>1</th>\n",
       "      <td>False</td>\n",
       "      <td>False</td>\n",
       "      <td>False</td>\n",
       "      <td>False</td>\n",
       "      <td>False</td>\n",
       "    </tr>\n",
       "    <tr>\n",
       "      <th>2</th>\n",
       "      <td>False</td>\n",
       "      <td>False</td>\n",
       "      <td>False</td>\n",
       "      <td>False</td>\n",
       "      <td>False</td>\n",
       "    </tr>\n",
       "    <tr>\n",
       "      <th>3</th>\n",
       "      <td>False</td>\n",
       "      <td>False</td>\n",
       "      <td>False</td>\n",
       "      <td>False</td>\n",
       "      <td>False</td>\n",
       "    </tr>\n",
       "    <tr>\n",
       "      <th>4</th>\n",
       "      <td>False</td>\n",
       "      <td>False</td>\n",
       "      <td>False</td>\n",
       "      <td>False</td>\n",
       "      <td>False</td>\n",
       "    </tr>\n",
       "    <tr>\n",
       "      <th>...</th>\n",
       "      <td>...</td>\n",
       "      <td>...</td>\n",
       "      <td>...</td>\n",
       "      <td>...</td>\n",
       "      <td>...</td>\n",
       "    </tr>\n",
       "    <tr>\n",
       "      <th>195</th>\n",
       "      <td>False</td>\n",
       "      <td>False</td>\n",
       "      <td>False</td>\n",
       "      <td>False</td>\n",
       "      <td>False</td>\n",
       "    </tr>\n",
       "    <tr>\n",
       "      <th>196</th>\n",
       "      <td>False</td>\n",
       "      <td>False</td>\n",
       "      <td>False</td>\n",
       "      <td>False</td>\n",
       "      <td>False</td>\n",
       "    </tr>\n",
       "    <tr>\n",
       "      <th>197</th>\n",
       "      <td>False</td>\n",
       "      <td>False</td>\n",
       "      <td>False</td>\n",
       "      <td>False</td>\n",
       "      <td>False</td>\n",
       "    </tr>\n",
       "    <tr>\n",
       "      <th>198</th>\n",
       "      <td>False</td>\n",
       "      <td>False</td>\n",
       "      <td>False</td>\n",
       "      <td>False</td>\n",
       "      <td>False</td>\n",
       "    </tr>\n",
       "    <tr>\n",
       "      <th>199</th>\n",
       "      <td>False</td>\n",
       "      <td>False</td>\n",
       "      <td>False</td>\n",
       "      <td>False</td>\n",
       "      <td>False</td>\n",
       "    </tr>\n",
       "  </tbody>\n",
       "</table>\n",
       "<p>200 rows × 5 columns</p>\n",
       "</div>"
      ],
      "text/plain": [
       "     CustomerID  Gender    Age  annual_income  spending_scores\n",
       "0         False   False  False          False            False\n",
       "1         False   False  False          False            False\n",
       "2         False   False  False          False            False\n",
       "3         False   False  False          False            False\n",
       "4         False   False  False          False            False\n",
       "..          ...     ...    ...            ...              ...\n",
       "195       False   False  False          False            False\n",
       "196       False   False  False          False            False\n",
       "197       False   False  False          False            False\n",
       "198       False   False  False          False            False\n",
       "199       False   False  False          False            False\n",
       "\n",
       "[200 rows x 5 columns]"
      ]
     },
     "execution_count": 52,
     "metadata": {},
     "output_type": "execute_result"
    }
   ],
   "source": [
    "df.isnull()"
   ]
  },
  {
   "cell_type": "code",
   "execution_count": 53,
   "id": "00b97f5c",
   "metadata": {},
   "outputs": [],
   "source": [
    "#there is no missing values"
   ]
  },
  {
   "cell_type": "code",
   "execution_count": 54,
   "id": "2fa4316c",
   "metadata": {},
   "outputs": [],
   "source": [
    "#6. Find the outliers and replace them outliers"
   ]
  },
  {
   "cell_type": "code",
   "execution_count": 55,
   "id": "36c1b620",
   "metadata": {},
   "outputs": [
    {
     "name": "stderr",
     "output_type": "stream",
     "text": [
      "C:\\Users\\91967\\anaconda3\\lib\\site-packages\\seaborn\\_decorators.py:36: FutureWarning: Pass the following variable as a keyword arg: x. From version 0.12, the only valid positional argument will be `data`, and passing other arguments without an explicit keyword will result in an error or misinterpretation.\n",
      "  warnings.warn(\n"
     ]
    },
    {
     "data": {
      "text/plain": [
       "<AxesSubplot:xlabel='Age'>"
      ]
     },
     "execution_count": 55,
     "metadata": {},
     "output_type": "execute_result"
    },
    {
     "data": {
      "image/png": "[encoded data removed]",
      "text/plain": [
       "<Figure size 432x288 with 1 Axes>"
      ]
     },
     "metadata": {
      "needs_background": "light"
     },
     "output_type": "display_data"
    }
   ],
   "source": [
    "sns.boxplot(df.Age)"
   ]
  },
  {
   "cell_type": "code",
   "execution_count": 56,
   "id": "94316ec4",
   "metadata": {},
   "outputs": [
    {
     "name": "stderr",
     "output_type": "stream",
     "text": [
      "C:\\Users\\91967\\anaconda3\\lib\\site-packages\\seaborn\\_decorators.py:36: FutureWarning: Pass the following variable as a keyword arg: x. From version 0.12, the only valid positional argument will be `data`, and passing other arguments without an explicit keyword will result in an error or misinterpretation.\n",
      "  warnings.warn(\n"
     ]
    },
    {
     "data": {
      "text/plain": [
       "<AxesSubplot:xlabel='annual_income'>"
      ]
     },
     "execution_count": 56,
     "metadata": {},
     "output_type": "execute_result"
    },
    {
     "data": {
      "image/png": "[encoded data removed]",
      "text/plain": [
       "<Figure size 432x288 with 1 Axes>"
      ]
     },
     "metadata": {
      "needs_background": "light"
     },
     "output_type": "display_data"
    }
   ],
   "source": [
    "sns.boxplot(df.annual_income)"
   ]
  },
  {
   "cell_type": "code",
   "execution_count": 57,
   "id": "de376894",
   "metadata": {},
   "outputs": [
    {
     "name": "stderr",
     "output_type": "stream",
     "text": [
      "C:\\Users\\91967\\anaconda3\\lib\\site-packages\\seaborn\\_decorators.py:36: FutureWarning: Pass the following variable as a keyword arg: x. From version 0.12, the only valid positional argument will be `data`, and passing other arguments without an explicit keyword will result in an error or misinterpretation.\n",
      "  warnings.warn(\n"
     ]
    },
    {
     "data": {
      "text/plain": [
       "<AxesSubplot:xlabel='spending_scores'>"
      ]
     },
     "execution_count": 57,
     "metadata": {},
     "output_type": "execute_result"
    },
    {
     "data": {
      "image/png": "[encoded data removed]",
      "text/plain": [
       "<Figure size 432x288 with 1 Axes>"
      ]
     },
     "metadata": {
      "needs_background": "light"
     },
     "output_type": "display_data"
    }
   ],
   "source": [
    "sns.boxplot(df.spending_scores)"
   ]
  },
  {
   "cell_type": "code",
   "execution_count": 58,
   "id": "ce50d746",
   "metadata": {},
   "outputs": [
    {
     "data": {
      "text/plain": [
       "132.75"
      ]
     },
     "execution_count": 58,
     "metadata": {},
     "output_type": "execute_result"
    }
   ],
   "source": [
    "#outlier removal- IQR method (annual income column has an outlier)\n",
    "Q1= df.annual_income.quantile(0.25)\n",
    "Q3=df.annual_income.quantile(0.75)\n",
    "\n",
    "IQR=Q3-Q1\n",
    "\n",
    "upper_limit =Q3 + 1.5*IQR\n",
    "lower_limit =Q1 - 1.5*IQR\n",
    "\n",
    "upper_limit"
   ]
  },
  {
   "cell_type": "code",
   "execution_count": 59,
   "id": "77ce4bfd",
   "metadata": {},
   "outputs": [
    {
     "name": "stderr",
     "output_type": "stream",
     "text": [
      "C:\\Users\\91967\\anaconda3\\lib\\site-packages\\seaborn\\_decorators.py:36: FutureWarning: Pass the following variable as a keyword arg: x. From version 0.12, the only valid positional argument will be `data`, and passing other arguments without an explicit keyword will result in an error or misinterpretation.\n",
      "  warnings.warn(\n"
     ]
    },
    {
     "data": {
      "text/plain": [
       "<AxesSubplot:xlabel='annual_income'>"
      ]
     },
     "execution_count": 59,
     "metadata": {},
     "output_type": "execute_result"
    },
    {
     "data": {
      "image/png": "[encoded data removed]",
      "text/plain": [
       "<Figure size 432x288 with 1 Axes>"
      ]
     },
     "metadata": {
      "needs_background": "light"
     },
     "output_type": "display_data"
    }
   ],
   "source": [
    "df=df[df.annual_income<upper_limit]\n",
    "\n",
    "sns.boxplot(df.annual_income)"
   ]
  },
  {
   "cell_type": "code",
   "execution_count": 60,
   "id": "1356e15c",
   "metadata": {},
   "outputs": [],
   "source": [
    "#Outlier replacement using median"
   ]
  },
  {
   "cell_type": "code",
   "execution_count": 61,
   "id": "b834fcac",
   "metadata": {},
   "outputs": [
    {
     "name": "stderr",
     "output_type": "stream",
     "text": [
      "C:\\Users\\91967\\anaconda3\\lib\\site-packages\\seaborn\\_decorators.py:36: FutureWarning: Pass the following variable as a keyword arg: x. From version 0.12, the only valid positional argument will be `data`, and passing other arguments without an explicit keyword will result in an error or misinterpretation.\n",
      "  warnings.warn(\n"
     ]
    },
    {
     "data": {
      "text/plain": [
       "<AxesSubplot:xlabel='annual_income'>"
      ]
     },
     "execution_count": 61,
     "metadata": {},
     "output_type": "execute_result"
    },
    {
     "data": {
      "image/png": "[encoded data removed]",
      "text/plain": [
       "<Figure size 432x288 with 1 Axes>"
      ]
     },
     "metadata": {
      "needs_background": "light"
     },
     "output_type": "display_data"
    }
   ],
   "source": [
    "sns.boxplot(df.annual_income)"
   ]
  },
  {
   "cell_type": "code",
   "execution_count": 62,
   "id": "889974de",
   "metadata": {},
   "outputs": [
    {
     "name": "stderr",
     "output_type": "stream",
     "text": [
      "C:\\Users\\91967\\AppData\\Local\\Temp\\ipykernel_13704\\530051474.py:1: FutureWarning: Dropping of nuisance columns in DataFrame reductions (with 'numeric_only=None') is deprecated; in a future version this will raise TypeError.  Select only valid columns before calling the reduction.\n",
      "  df.median()\n"
     ]
    },
    {
     "data": {
      "text/plain": [
       "CustomerID         99.5\n",
       "Age                36.0\n",
       "annual_income      61.0\n",
       "spending_scores    50.0\n",
       "dtype: float64"
      ]
     },
     "execution_count": 62,
     "metadata": {},
     "output_type": "execute_result"
    }
   ],
   "source": [
    "df.median()"
   ]
  },
  {
   "cell_type": "code",
   "execution_count": 63,
   "id": "9fb49e26",
   "metadata": {},
   "outputs": [
    {
     "name": "stderr",
     "output_type": "stream",
     "text": [
      "C:\\Users\\91967\\AppData\\Local\\Temp\\ipykernel_13704\\2938705462.py:6: SettingWithCopyWarning: \n",
      "A value is trying to be set on a copy of a slice from a DataFrame.\n",
      "Try using .loc[row_indexer,col_indexer] = value instead\n",
      "\n",
      "See the caveats in the documentation: https://pandas.pydata.org/pandas-docs/stable/user_guide/indexing.html#returning-a-view-versus-a-copy\n",
      "  df['annual_income'] = np.where(df['annual_income']>upper_limit,30,df['annual_income'])\n"
     ]
    }
   ],
   "source": [
    "Q1= df.annual_income.quantile(0.25)\n",
    "Q3=df.annual_income.quantile(0.75)\n",
    "IQR=Q3-Q1\n",
    "upper_limit =Q3 + 1.5*IQR\n",
    "lower_limit =Q1 - 1.5*IQR\n",
    "df['annual_income'] = np.where(df['annual_income']>upper_limit,30,df['annual_income'])"
   ]
  },
  {
   "cell_type": "code",
   "execution_count": 64,
   "id": "8cc16e09",
   "metadata": {},
   "outputs": [
    {
     "name": "stderr",
     "output_type": "stream",
     "text": [
      "C:\\Users\\91967\\anaconda3\\lib\\site-packages\\seaborn\\_decorators.py:36: FutureWarning: Pass the following variable as a keyword arg: x. From version 0.12, the only valid positional argument will be `data`, and passing other arguments without an explicit keyword will result in an error or misinterpretation.\n",
      "  warnings.warn(\n"
     ]
    },
    {
     "data": {
      "text/plain": [
       "<AxesSubplot:xlabel='annual_income'>"
      ]
     },
     "execution_count": 64,
     "metadata": {},
     "output_type": "execute_result"
    },
    {
     "data": {
      "image/png": "[encoded data removed]",
      "text/plain": [
       "<Figure size 432x288 with 1 Axes>"
      ]
     },
     "metadata": {
      "needs_background": "light"
     },
     "output_type": "display_data"
    }
   ],
   "source": [
    "sns.boxplot(df.annual_income)"
   ]
  },
  {
   "cell_type": "code",
   "execution_count": 65,
   "id": "dc3b360e",
   "metadata": {},
   "outputs": [],
   "source": [
    "#7. Check for Categorical columns and perform encoding.\n",
    "#label encoding"
   ]
  },
  {
   "cell_type": "code",
   "execution_count": 66,
   "id": "49407c40",
   "metadata": {},
   "outputs": [
    {
     "data": {
      "text/plain": [
       "CustomerID          int64\n",
       "Gender             object\n",
       "Age                 int64\n",
       "annual_income       int64\n",
       "spending_scores     int64\n",
       "dtype: object"
      ]
     },
     "execution_count": 66,
     "metadata": {},
     "output_type": "execute_result"
    }
   ],
   "source": [
    "df.dtypes"
   ]
  },
  {
   "cell_type": "code",
   "execution_count": 67,
   "id": "11c69508",
   "metadata": {},
   "outputs": [],
   "source": [
    "from sklearn.preprocessing import LabelEncoder"
   ]
  },
  {
   "cell_type": "code",
   "execution_count": 68,
   "id": "bba534eb",
   "metadata": {},
   "outputs": [],
   "source": [
    "le=LabelEncoder()"
   ]
  },
  {
   "cell_type": "code",
   "execution_count": 69,
   "id": "ddff5ea6",
   "metadata": {},
   "outputs": [
    {
     "name": "stderr",
     "output_type": "stream",
     "text": [
      "C:\\Users\\91967\\AppData\\Local\\Temp\\ipykernel_13704\\683395824.py:1: SettingWithCopyWarning: \n",
      "A value is trying to be set on a copy of a slice from a DataFrame.\n",
      "Try using .loc[row_indexer,col_indexer] = value instead\n",
      "\n",
      "See the caveats in the documentation: https://pandas.pydata.org/pandas-docs/stable/user_guide/indexing.html#returning-a-view-versus-a-copy\n",
      "  df.Gender = le.fit_transform(df.Gender)\n"
     ]
    }
   ],
   "source": [
    "df.Gender = le.fit_transform(df.Gender)"
   ]
  },
  {
   "cell_type": "code",
   "execution_count": 70,
   "id": "98c373f7",
   "metadata": {},
   "outputs": [
    {
     "data": {
      "text/html": [
       "<div>\n",
       "<style scoped>\n",
       "    .dataframe tbody tr th:only-of-type {\n",
       "        vertical-align: middle;\n",
       "    }\n",
       "\n",
       "    .dataframe tbody tr th {\n",
       "        vertical-align: top;\n",
       "    }\n",
       "\n",
       "    .dataframe thead th {\n",
       "        text-align: right;\n",
       "    }\n",
       "</style>\n",
       "<table border=\"1\" class=\"dataframe\">\n",
       "  <thead>\n",
       "    <tr style=\"text-align: right;\">\n",
       "      <th></th>\n",
       "      <th>CustomerID</th>\n",
       "      <th>Gender</th>\n",
       "      <th>Age</th>\n",
       "      <th>annual_income</th>\n",
       "      <th>spending_scores</th>\n",
       "    </tr>\n",
       "  </thead>\n",
       "  <tbody>\n",
       "    <tr>\n",
       "      <th>0</th>\n",
       "      <td>1</td>\n",
       "      <td>1</td>\n",
       "      <td>19</td>\n",
       "      <td>15</td>\n",
       "      <td>39</td>\n",
       "    </tr>\n",
       "    <tr>\n",
       "      <th>1</th>\n",
       "      <td>2</td>\n",
       "      <td>1</td>\n",
       "      <td>21</td>\n",
       "      <td>15</td>\n",
       "      <td>81</td>\n",
       "    </tr>\n",
       "    <tr>\n",
       "      <th>2</th>\n",
       "      <td>3</td>\n",
       "      <td>0</td>\n",
       "      <td>20</td>\n",
       "      <td>16</td>\n",
       "      <td>6</td>\n",
       "    </tr>\n",
       "    <tr>\n",
       "      <th>3</th>\n",
       "      <td>4</td>\n",
       "      <td>0</td>\n",
       "      <td>23</td>\n",
       "      <td>16</td>\n",
       "      <td>77</td>\n",
       "    </tr>\n",
       "    <tr>\n",
       "      <th>4</th>\n",
       "      <td>5</td>\n",
       "      <td>0</td>\n",
       "      <td>31</td>\n",
       "      <td>17</td>\n",
       "      <td>40</td>\n",
       "    </tr>\n",
       "  </tbody>\n",
       "</table>\n",
       "</div>"
      ],
      "text/plain": [
       "   CustomerID  Gender  Age  annual_income  spending_scores\n",
       "0           1       1   19             15               39\n",
       "1           2       1   21             15               81\n",
       "2           3       0   20             16                6\n",
       "3           4       0   23             16               77\n",
       "4           5       0   31             17               40"
      ]
     },
     "execution_count": 70,
     "metadata": {},
     "output_type": "execute_result"
    }
   ],
   "source": [
    "df.head()"
   ]
  },
  {
   "cell_type": "code",
   "execution_count": 71,
   "id": "f0771fe8",
   "metadata": {},
   "outputs": [],
   "source": [
    "#OneHotEncoder\n",
    "p = df.iloc[:,1:].values\n",
    "q = df.iloc[:,4].values"
   ]
  },
  {
   "cell_type": "code",
   "execution_count": 72,
   "id": "6e62d15a",
   "metadata": {},
   "outputs": [],
   "source": [
    "from sklearn.preprocessing import OneHotEncoder\n",
    "ohe = OneHotEncoder()"
   ]
  },
  {
   "cell_type": "code",
   "execution_count": 73,
   "id": "338ad7cc",
   "metadata": {},
   "outputs": [
    {
     "data": {
      "text/plain": [
       "array([[0., 1., 0., ..., 0., 0., 0.],\n",
       "       [0., 0., 0., ..., 0., 0., 0.],\n",
       "       [0., 0., 1., ..., 0., 0., 0.],\n",
       "       ...,\n",
       "       [0., 0., 0., ..., 0., 0., 0.],\n",
       "       [0., 0., 0., ..., 0., 0., 0.],\n",
       "       [0., 0., 0., ..., 0., 0., 0.]])"
      ]
     },
     "execution_count": 73,
     "metadata": {},
     "output_type": "execute_result"
    }
   ],
   "source": [
    "z = ohe.fit_transform(p[:,1:]).toarray()\n",
    "z"
   ]
  },
  {
   "cell_type": "code",
   "execution_count": 74,
   "id": "42024b5c",
   "metadata": {},
   "outputs": [
    {
     "data": {
      "text/plain": [
       "array([39, 81,  6, 77, 40, 76,  6, 94,  3, 72, 14, 99, 15, 77, 13, 79, 35,\n",
       "       66, 29, 98, 35, 73,  5, 73, 14, 82, 32, 61, 31, 87,  4, 73,  4, 92,\n",
       "       14, 81, 17, 73, 26, 75, 35, 92, 36, 61, 28, 65, 55, 47, 42, 42, 52,\n",
       "       60, 54, 60, 45, 41, 50, 46, 51, 46, 56, 55, 52, 59, 51, 59, 50, 48,\n",
       "       59, 47, 55, 42, 49, 56, 47, 54, 53, 48, 52, 42, 51, 55, 41, 44, 57,\n",
       "       46, 58, 55, 60, 46, 55, 41, 49, 40, 42, 52, 47, 50, 42, 49, 41, 48,\n",
       "       59, 55, 56, 42, 50, 46, 43, 48, 52, 54, 42, 46, 48, 50, 43, 59, 43,\n",
       "       57, 56, 40, 58, 91, 29, 77, 35, 95, 11, 75,  9, 75, 34, 71,  5, 88,\n",
       "        7, 73, 10, 72,  5, 93, 40, 87, 12, 97, 36, 74, 22, 90, 17, 88, 20,\n",
       "       76, 16, 89,  1, 78,  1, 73, 35, 83,  5, 93, 26, 75, 20, 95, 27, 63,\n",
       "       13, 75, 10, 92, 13, 86, 15, 69, 14, 90, 32, 86, 15, 88, 39, 97, 24,\n",
       "       68, 17, 85, 23, 69,  8, 91, 16, 79, 28, 74], dtype=int64)"
      ]
     },
     "execution_count": 74,
     "metadata": {},
     "output_type": "execute_result"
    }
   ],
   "source": [
    "q"
   ]
  },
  {
   "cell_type": "code",
   "execution_count": 75,
   "id": "8c6bf9e1",
   "metadata": {},
   "outputs": [
    {
     "data": {
      "text/html": [
       "<div>\n",
       "<style scoped>\n",
       "    .dataframe tbody tr th:only-of-type {\n",
       "        vertical-align: middle;\n",
       "    }\n",
       "\n",
       "    .dataframe tbody tr th {\n",
       "        vertical-align: top;\n",
       "    }\n",
       "\n",
       "    .dataframe thead th {\n",
       "        text-align: right;\n",
       "    }\n",
       "</style>\n",
       "<table border=\"1\" class=\"dataframe\">\n",
       "  <thead>\n",
       "    <tr style=\"text-align: right;\">\n",
       "      <th></th>\n",
       "      <th>CustomerID</th>\n",
       "      <th>Gender</th>\n",
       "      <th>Age</th>\n",
       "      <th>annual_income</th>\n",
       "    </tr>\n",
       "  </thead>\n",
       "  <tbody>\n",
       "    <tr>\n",
       "      <th>0</th>\n",
       "      <td>1</td>\n",
       "      <td>1</td>\n",
       "      <td>19</td>\n",
       "      <td>15</td>\n",
       "    </tr>\n",
       "    <tr>\n",
       "      <th>1</th>\n",
       "      <td>2</td>\n",
       "      <td>1</td>\n",
       "      <td>21</td>\n",
       "      <td>15</td>\n",
       "    </tr>\n",
       "    <tr>\n",
       "      <th>2</th>\n",
       "      <td>3</td>\n",
       "      <td>0</td>\n",
       "      <td>20</td>\n",
       "      <td>16</td>\n",
       "    </tr>\n",
       "    <tr>\n",
       "      <th>3</th>\n",
       "      <td>4</td>\n",
       "      <td>0</td>\n",
       "      <td>23</td>\n",
       "      <td>16</td>\n",
       "    </tr>\n",
       "    <tr>\n",
       "      <th>4</th>\n",
       "      <td>5</td>\n",
       "      <td>0</td>\n",
       "      <td>31</td>\n",
       "      <td>17</td>\n",
       "    </tr>\n",
       "  </tbody>\n",
       "</table>\n",
       "</div>"
      ],
      "text/plain": [
       "   CustomerID  Gender  Age  annual_income\n",
       "0           1       1   19             15\n",
       "1           2       1   21             15\n",
       "2           3       0   20             16\n",
       "3           4       0   23             16\n",
       "4           5       0   31             17"
      ]
     },
     "execution_count": 75,
     "metadata": {},
     "output_type": "execute_result"
    }
   ],
   "source": [
    "#11.X and y split\n",
    "# independent varibles-X\n",
    "\n",
    "X=df.drop(columns=['spending_scores'],axis=1)\n",
    "X.head()"
   ]
  },
  {
   "cell_type": "code",
   "execution_count": 76,
   "id": "d4537e24",
   "metadata": {},
   "outputs": [
    {
     "data": {
      "text/plain": [
       "0      39\n",
       "1      81\n",
       "2       6\n",
       "3      77\n",
       "4      40\n",
       "       ..\n",
       "193    91\n",
       "194    16\n",
       "195    79\n",
       "196    28\n",
       "197    74\n",
       "Name: spending_scores, Length: 198, dtype: int64"
      ]
     },
     "execution_count": 76,
     "metadata": {},
     "output_type": "execute_result"
    }
   ],
   "source": [
    "# y target-dependent variable\n",
    "y=df.spending_scores\n",
    "y"
   ]
  },
  {
   "cell_type": "code",
   "execution_count": 77,
   "id": "7452fc74",
   "metadata": {},
   "outputs": [
    {
     "data": {
      "text/plain": [
       "array([[ 1.1411948 , -1.42541358, -1.77917141, -0.43598941],\n",
       "       [ 1.1411948 , -1.2823665 , -1.77917141,  1.19941337],\n",
       "       [-0.87627458, -1.35389004, -1.73944701, -1.72094874],\n",
       "       [-0.87627458, -1.13931942, -1.73944701,  1.04366072],\n",
       "       [-0.87627458, -0.5671311 , -1.69972262, -0.39705125],\n",
       "       [-0.87627458, -1.21084296, -1.69972262,  1.00472256],\n",
       "       [-0.87627458, -0.28103694, -1.65999822, -1.72094874],\n",
       "       [-0.87627458, -1.13931942, -1.65999822,  1.70560947],\n",
       "       [ 1.1411948 ,  1.79314572, -1.62027383, -1.83776323],\n",
       "       [-0.87627458, -0.63865464, -1.62027383,  0.84896992],\n",
       "       [ 1.1411948 ,  2.00771635, -1.62027383, -1.40944345],\n",
       "       [-0.87627458, -0.28103694, -1.62027383,  1.90030028],\n",
       "       [-0.87627458,  1.36400448, -1.58054943, -1.37050529],\n",
       "       [-0.87627458, -1.06779588, -1.58054943,  1.04366072],\n",
       "       [ 1.1411948 , -0.13798986, -1.58054943, -1.44838161],\n",
       "       [ 1.1411948 , -1.21084296, -1.58054943,  1.12153705],\n",
       "       [-0.87627458, -0.28103694, -1.54082504, -0.59174206],\n",
       "       [ 1.1411948 , -1.35389004, -1.54082504,  0.61534095],\n",
       "       [ 1.1411948 ,  0.93486324, -1.46137625, -0.82537103],\n",
       "       [-0.87627458, -0.28103694, -1.46137625,  1.86136212],\n",
       "       [ 1.1411948 , -0.28103694, -1.42165185, -0.59174206],\n",
       "       [ 1.1411948 , -0.99627234, -1.42165185,  0.88790808],\n",
       "       [-0.87627458,  0.505722  , -1.38192745, -1.75988691],\n",
       "       [ 1.1411948 , -0.5671311 , -1.38192745,  0.88790808],\n",
       "       [-0.87627458,  1.07791032, -1.26275427, -1.40944345],\n",
       "       [ 1.1411948 , -0.71017818, -1.26275427,  1.23835153],\n",
       "       [-0.87627458,  0.43419846, -1.26275427, -0.70855655],\n",
       "       [ 1.1411948 , -0.28103694, -1.26275427,  0.42065014],\n",
       "       [-0.87627458,  0.07658076, -1.22302987, -0.74749471],\n",
       "       [-0.87627458, -1.13931942, -1.22302987,  1.43304234],\n",
       "       [ 1.1411948 ,  1.50705156, -1.18330548, -1.79882507],\n",
       "       [-0.87627458, -1.2823665 , -1.18330548,  0.88790808],\n",
       "       [ 1.1411948 ,  1.00638678, -1.06413229, -1.79882507],\n",
       "       [ 1.1411948 , -1.49693712, -1.06413229,  1.62773315],\n",
       "       [-0.87627458,  0.72029262, -1.06413229, -1.40944345],\n",
       "       [-0.87627458, -1.2823665 , -1.06413229,  1.19941337],\n",
       "       [-0.87627458,  0.21962784, -1.0244079 , -1.29262897],\n",
       "       [-0.87627458, -0.63865464, -1.0244079 ,  0.88790808],\n",
       "       [-0.87627458, -0.2095134 , -0.90523471, -0.94218551],\n",
       "       [-0.87627458, -1.35389004, -0.90523471,  0.9657844 ],\n",
       "       [-0.87627458,  1.86466927, -0.86551031, -0.59174206],\n",
       "       [ 1.1411948 , -1.06779588, -0.86551031,  1.62773315],\n",
       "       [ 1.1411948 ,  0.64876908, -0.82578592, -0.5528039 ],\n",
       "       [-0.87627458, -0.5671311 , -0.82578592,  0.42065014],\n",
       "       [-0.87627458,  0.72029262, -0.82578592, -0.86430919],\n",
       "       [-0.87627458, -1.06779588, -0.82578592,  0.57640278],\n",
       "       [-0.87627458,  0.79181616, -0.78606152,  0.18702117],\n",
       "       [-0.87627458, -0.85322526, -0.78606152, -0.12448412],\n",
       "       [-0.87627458, -0.71017818, -0.78606152, -0.31917493],\n",
       "       [-0.87627458, -0.5671311 , -0.78606152, -0.31917493],\n",
       "       [-0.87627458,  0.72029262, -0.70661273,  0.07020669],\n",
       "       [ 1.1411948 , -0.42408402, -0.70661273,  0.38171198],\n",
       "       [-0.87627458, -0.5671311 , -0.66688834,  0.14808301],\n",
       "       [ 1.1411948 ,  1.43552802, -0.66688834,  0.38171198],\n",
       "       [-0.87627458,  0.79181616, -0.66688834, -0.20236045],\n",
       "       [ 1.1411948 ,  0.57724554, -0.66688834, -0.35811309],\n",
       "       [-0.87627458,  0.8633397 , -0.62716394, -0.00766964],\n",
       "       [ 1.1411948 ,  2.15076343, -0.62716394, -0.16342228],\n",
       "       [-0.87627458, -0.85322526, -0.54771515,  0.03126852],\n",
       "       [ 1.1411948 ,  1.00638678, -0.54771515, -0.16342228],\n",
       "       [ 1.1411948 ,  2.22228697, -0.54771515,  0.22595933],\n",
       "       [ 1.1411948 , -1.42541358, -0.54771515,  0.18702117],\n",
       "       [-0.87627458,  2.00771635, -0.50799075,  0.07020669],\n",
       "       [-0.87627458,  1.07791032, -0.50799075,  0.34277382],\n",
       "       [ 1.1411948 ,  1.72162218, -0.46826636,  0.03126852],\n",
       "       [ 1.1411948 , -1.49693712, -0.46826636,  0.34277382],\n",
       "       [-0.87627458,  0.29115138, -0.46826636, -0.00766964],\n",
       "       [-0.87627458,  2.07923989, -0.46826636, -0.08554596],\n",
       "       [ 1.1411948 , -1.42541358, -0.46826636,  0.34277382],\n",
       "       [-0.87627458, -0.49560756, -0.46826636, -0.12448412],\n",
       "       [ 1.1411948 ,  2.22228697, -0.42854196,  0.18702117],\n",
       "       [-0.87627458,  0.57724554, -0.42854196, -0.31917493],\n",
       "       [-0.87627458,  1.50705156, -0.38881757, -0.0466078 ],\n",
       "       [-0.87627458,  1.50705156, -0.38881757,  0.22595933],\n",
       "       [ 1.1411948 ,  1.43552802, -0.22991999, -0.12448412],\n",
       "       [ 1.1411948 , -0.9247488 , -0.22991999,  0.14808301],\n",
       "       [-0.87627458,  0.43419846, -0.22991999,  0.10914485],\n",
       "       [ 1.1411948 ,  0.07658076, -0.22991999, -0.08554596],\n",
       "       [-0.87627458, -1.13931942, -0.22991999,  0.07020669],\n",
       "       [-0.87627458,  0.72029262, -0.22991999, -0.31917493],\n",
       "       [ 1.1411948 ,  1.29248094, -0.22991999,  0.03126852],\n",
       "       [ 1.1411948 , -0.06646632, -0.22991999,  0.18702117],\n",
       "       [ 1.1411948 ,  2.00771635, -0.22991999, -0.35811309],\n",
       "       [-0.87627458,  0.505722  , -0.22991999, -0.24129861],\n",
       "       [-0.87627458, -1.2823665 , -0.22991999,  0.26489749],\n",
       "       [ 1.1411948 ,  0.64876908, -0.22991999, -0.16342228],\n",
       "       [-0.87627458,  1.14943386, -0.1107468 ,  0.30383565],\n",
       "       [-0.87627458, -1.21084296, -0.1107468 ,  0.18702117],\n",
       "       [-0.87627458, -0.35256048, -0.0710224 ,  0.38171198],\n",
       "       [-0.87627458,  0.79181616, -0.0710224 , -0.16342228],\n",
       "       [-0.87627458,  2.07923989, -0.03129801,  0.18702117],\n",
       "       [ 1.1411948 , -1.49693712, -0.03129801, -0.35811309],\n",
       "       [ 1.1411948 ,  0.64876908,  0.00842639, -0.0466078 ],\n",
       "       [-0.87627458,  0.07658076,  0.00842639, -0.39705125],\n",
       "       [-0.87627458, -0.49560756,  0.00842639, -0.31917493],\n",
       "       [ 1.1411948 , -1.06779588,  0.00842639,  0.07020669],\n",
       "       [-0.87627458,  0.57724554,  0.00842639, -0.12448412],\n",
       "       [-0.87627458, -0.85322526,  0.00842639, -0.00766964],\n",
       "       [ 1.1411948 ,  0.64876908,  0.04815078, -0.31917493],\n",
       "       [ 1.1411948 , -1.35389004,  0.04815078, -0.0466078 ],\n",
       "       [-0.87627458, -1.13931942,  0.08787518, -0.35811309],\n",
       "       [-0.87627458,  0.72029262,  0.08787518, -0.08554596],\n",
       "       [ 1.1411948 ,  2.00771635,  0.08787518,  0.34277382],\n",
       "       [ 1.1411948 , -0.9247488 ,  0.08787518,  0.18702117],\n",
       "       [ 1.1411948 ,  0.72029262,  0.08787518,  0.22595933],\n",
       "       [-0.87627458, -1.2823665 ,  0.08787518, -0.31917493],\n",
       "       [-0.87627458,  1.93619281,  0.12759957, -0.00766964],\n",
       "       [ 1.1411948 ,  1.07791032,  0.12759957, -0.16342228],\n",
       "       [ 1.1411948 ,  2.07923989,  0.12759957, -0.28023677],\n",
       "       [ 1.1411948 ,  1.93619281,  0.12759957, -0.08554596],\n",
       "       [ 1.1411948 ,  1.86466927,  0.12759957,  0.07020669],\n",
       "       [-0.87627458, -1.42541358,  0.12759957,  0.14808301],\n",
       "       [-0.87627458, -0.06646632,  0.16732397, -0.31917493],\n",
       "       [ 1.1411948 , -1.42541358,  0.16732397, -0.16342228],\n",
       "       [-0.87627458, -1.49693712,  0.20704836, -0.08554596],\n",
       "       [-0.87627458, -1.42541358,  0.20704836, -0.00766964],\n",
       "       [-0.87627458,  1.72162218,  0.20704836, -0.28023677],\n",
       "       [-0.87627458,  0.72029262,  0.20704836,  0.34277382],\n",
       "       [-0.87627458,  0.8633397 ,  0.28649716, -0.28023677],\n",
       "       [-0.87627458,  0.79181616,  0.28649716,  0.26489749],\n",
       "       [ 1.1411948 , -0.85322526,  0.28649716,  0.22595933],\n",
       "       [-0.87627458, -0.06646632,  0.28649716, -0.39705125],\n",
       "       [-0.87627458,  0.07658076,  0.36594595,  0.30383565],\n",
       "       [ 1.1411948 ,  0.00505722,  0.36594595,  1.58879498],\n",
       "       [-0.87627458, -1.13931942,  0.40567034, -0.82537103],\n",
       "       [-0.87627458, -0.5671311 ,  0.40567034,  1.04366072],\n",
       "       [ 1.1411948 ,  0.29115138,  0.44539474, -0.59174206],\n",
       "       [ 1.1411948 ,  0.07658076,  0.44539474,  1.74454763],\n",
       "       [ 1.1411948 ,  1.43552802,  0.44539474, -1.52625794],\n",
       "       [ 1.1411948 , -0.06646632,  0.44539474,  0.9657844 ],\n",
       "       [ 1.1411948 ,  0.57724554,  0.44539474, -1.60413426],\n",
       "       [ 1.1411948 ,  0.00505722,  0.44539474,  0.9657844 ],\n",
       "       [-0.87627458, -0.99627234,  0.48511913, -0.63068022],\n",
       "       [-0.87627458, -0.5671311 ,  0.48511913,  0.81003175],\n",
       "       [ 1.1411948 , -1.35389004,  0.52484353, -1.75988691],\n",
       "       [-0.87627458, -0.71017818,  0.52484353,  1.4719805 ],\n",
       "       [-0.87627458,  0.36267492,  0.52484353, -1.68201058],\n",
       "       [ 1.1411948 , -0.49560756,  0.52484353,  0.88790808],\n",
       "       [ 1.1411948 , -1.42541358,  0.56456792, -1.5651961 ],\n",
       "       [-0.87627458, -0.28103694,  0.56456792,  0.84896992],\n",
       "       [-0.87627458,  1.29248094,  0.60429232, -1.75988691],\n",
       "       [ 1.1411948 , -0.49560756,  0.60429232,  1.66667131],\n",
       "       [-0.87627458, -0.78170172,  0.64401671, -0.39705125],\n",
       "       [-0.87627458, -0.49560756,  0.64401671,  1.43304234],\n",
       "       [ 1.1411948 , -0.99627234,  0.68374111, -1.48731978],\n",
       "       [ 1.1411948 , -0.78170172,  0.68374111,  1.82242395],\n",
       "       [ 1.1411948 ,  0.64876908,  0.68374111, -0.5528039 ],\n",
       "       [-0.87627458, -0.49560756,  0.68374111,  0.92684624],\n",
       "       [-0.87627458, -0.35256048,  0.72346551, -1.09793816],\n",
       "       [ 1.1411948 , -0.35256048,  0.72346551,  1.54985682],\n",
       "       [ 1.1411948 ,  0.29115138,  0.72346551, -1.29262897],\n",
       "       [ 1.1411948 ,  0.00505722,  0.72346551,  1.4719805 ],\n",
       "       [-0.87627458,  0.36267492,  0.72346551, -1.17581448],\n",
       "       [-0.87627458, -0.06646632,  0.72346551,  1.00472256],\n",
       "       [-0.87627458,  0.57724554,  0.72346551, -1.33156713],\n",
       "       [-0.87627458, -0.85322526,  0.72346551,  1.51091866],\n",
       "       [ 1.1411948 , -0.13798986,  0.72346551, -1.91563955],\n",
       "       [-0.87627458, -0.63865464,  0.72346551,  1.08259888],\n",
       "       [ 1.1411948 , -0.35256048,  0.72346551, -1.91563955],\n",
       "       [-0.87627458, -0.63865464,  0.72346551,  0.88790808],\n",
       "       [-0.87627458,  1.2209574 ,  0.7631899 , -0.59174206],\n",
       "       [-0.87627458, -0.71017818,  0.7631899 ,  1.27728969],\n",
       "       [ 1.1411948 , -1.42541358,  0.84263869, -1.75988691],\n",
       "       [-0.87627458, -0.5671311 ,  0.84263869,  1.66667131],\n",
       "       [ 1.1411948 ,  0.79181616,  1.00153627, -0.94218551],\n",
       "       [-0.87627458, -0.2095134 ,  1.00153627,  0.9657844 ],\n",
       "       [ 1.1411948 ,  0.21962784,  1.04126067, -1.17581448],\n",
       "       [-0.87627458, -0.42408402,  1.04126067,  1.74454763],\n",
       "       [-0.87627458, -0.2095134 ,  1.08098506, -0.90324735],\n",
       "       [ 1.1411948 , -0.49560756,  1.08098506,  0.49852646],\n",
       "       [ 1.1411948 ,  0.07658076,  1.08098506, -1.44838161],\n",
       "       [ 1.1411948 , -0.78170172,  1.08098506,  0.9657844 ],\n",
       "       [ 1.1411948 , -0.2095134 ,  1.08098506, -1.5651961 ],\n",
       "       [ 1.1411948 , -0.2095134 ,  1.08098506,  1.62773315],\n",
       "       [-0.87627458,  0.93486324,  1.12070946, -1.44838161],\n",
       "       [-0.87627458, -0.63865464,  1.12070946,  1.39410418],\n",
       "       [ 1.1411948 ,  1.36400448,  1.12070946, -1.37050529],\n",
       "       [ 1.1411948 , -0.85322526,  1.12070946,  0.73215543],\n",
       "       [ 1.1411948 ,  1.43552802,  1.31933144, -1.40944345],\n",
       "       [ 1.1411948 , -0.28103694,  1.31933144,  1.54985682],\n",
       "       [-0.87627458, -0.13798986,  1.47822902, -0.70855655],\n",
       "       [-0.87627458, -0.49560756,  1.47822902,  1.39410418],\n",
       "       [ 1.1411948 ,  0.505722  ,  1.51795342, -1.37050529],\n",
       "       [-0.87627458, -0.71017818,  1.51795342,  1.4719805 ],\n",
       "       [-0.87627458,  0.1481043 ,  1.55767781, -0.43598941],\n",
       "       [ 1.1411948 , -0.63865464,  1.55767781,  1.82242395],\n",
       "       [-0.87627458,  1.07791032,  1.6371266 , -1.02006184],\n",
       "       [ 1.1411948 , -0.78170172,  1.6371266 ,  0.69321727],\n",
       "       [-0.87627458,  0.1481043 ,  1.71657539, -1.29262897],\n",
       "       [-0.87627458, -0.2095134 ,  1.71657539,  1.35516602],\n",
       "       [-0.87627458, -0.35256048,  1.71657539, -1.059     ],\n",
       "       [-0.87627458, -0.49560756,  1.71657539,  0.73215543],\n",
       "       [ 1.1411948 , -0.42408402,  2.11381935, -1.64307242],\n",
       "       [-0.87627458, -0.06646632,  2.11381935,  1.58879498],\n",
       "       [-0.87627458,  0.57724554,  2.39189012, -1.33156713],\n",
       "       [-0.87627458, -0.28103694,  2.39189012,  1.12153705],\n",
       "       [-0.87627458,  0.43419846,  2.63023649, -0.86430919],\n",
       "       [ 1.1411948 , -0.49560756,  2.63023649,  0.92684624]])"
      ]
     },
     "execution_count": 77,
     "metadata": {},
     "output_type": "execute_result"
    }
   ],
   "source": [
    "#scaling\n",
    "from sklearn.preprocessing import scale\n",
    "X_scaled=scale(p)\n",
    "X_scaled"
   ]
  },
  {
   "cell_type": "code",
   "execution_count": 78,
   "id": "99c37ba7",
   "metadata": {},
   "outputs": [],
   "source": [
    "#9. Perform any of the clustering algorithms"
   ]
  },
  {
   "cell_type": "code",
   "execution_count": 79,
   "id": "6a559d69",
   "metadata": {},
   "outputs": [
    {
     "data": {
      "text/html": [
       "<div>\n",
       "<style scoped>\n",
       "    .dataframe tbody tr th:only-of-type {\n",
       "        vertical-align: middle;\n",
       "    }\n",
       "\n",
       "    .dataframe tbody tr th {\n",
       "        vertical-align: top;\n",
       "    }\n",
       "\n",
       "    .dataframe thead th {\n",
       "        text-align: right;\n",
       "    }\n",
       "</style>\n",
       "<table border=\"1\" class=\"dataframe\">\n",
       "  <thead>\n",
       "    <tr style=\"text-align: right;\">\n",
       "      <th></th>\n",
       "      <th>CustomerID</th>\n",
       "      <th>Gender</th>\n",
       "      <th>Age</th>\n",
       "      <th>annual_income</th>\n",
       "    </tr>\n",
       "  </thead>\n",
       "  <tbody>\n",
       "    <tr>\n",
       "      <th>0</th>\n",
       "      <td>1</td>\n",
       "      <td>1</td>\n",
       "      <td>19</td>\n",
       "      <td>15</td>\n",
       "    </tr>\n",
       "    <tr>\n",
       "      <th>1</th>\n",
       "      <td>2</td>\n",
       "      <td>1</td>\n",
       "      <td>21</td>\n",
       "      <td>15</td>\n",
       "    </tr>\n",
       "    <tr>\n",
       "      <th>2</th>\n",
       "      <td>3</td>\n",
       "      <td>0</td>\n",
       "      <td>20</td>\n",
       "      <td>16</td>\n",
       "    </tr>\n",
       "    <tr>\n",
       "      <th>3</th>\n",
       "      <td>4</td>\n",
       "      <td>0</td>\n",
       "      <td>23</td>\n",
       "      <td>16</td>\n",
       "    </tr>\n",
       "    <tr>\n",
       "      <th>4</th>\n",
       "      <td>5</td>\n",
       "      <td>0</td>\n",
       "      <td>31</td>\n",
       "      <td>17</td>\n",
       "    </tr>\n",
       "  </tbody>\n",
       "</table>\n",
       "</div>"
      ],
      "text/plain": [
       "   CustomerID  Gender  Age  annual_income\n",
       "0           1       1   19             15\n",
       "1           2       1   21             15\n",
       "2           3       0   20             16\n",
       "3           4       0   23             16\n",
       "4           5       0   31             17"
      ]
     },
     "execution_count": 79,
     "metadata": {},
     "output_type": "execute_result"
    }
   ],
   "source": [
    "new_df=df.iloc[:,:-1]\n",
    "new_df.head()"
   ]
  },
  {
   "cell_type": "code",
   "execution_count": 80,
   "id": "3498a13c",
   "metadata": {},
   "outputs": [
    {
     "data": {
      "text/plain": [
       "(198, 4)"
      ]
     },
     "execution_count": 80,
     "metadata": {},
     "output_type": "execute_result"
    }
   ],
   "source": [
    "new_df.shape"
   ]
  },
  {
   "cell_type": "code",
   "execution_count": 81,
   "id": "47498ff8",
   "metadata": {},
   "outputs": [],
   "source": [
    "from sklearn.cluster import KMeans"
   ]
  },
  {
   "cell_type": "code",
   "execution_count": 82,
   "id": "f9b0eca2",
   "metadata": {},
   "outputs": [
    {
     "data": {
      "text/plain": [
       "array([4, 4, 3, 3, 3, 3, 3, 3, 0, 3, 0, 3, 1, 3, 4, 4, 3, 4, 0, 3, 4, 4,\n",
       "       1, 4, 1, 4, 1, 4, 3, 3, 0, 3, 0, 4, 1, 3, 1, 3, 3, 3, 1, 4, 0, 3,\n",
       "       1, 3, 1, 3, 3, 3, 1, 4, 3, 0, 1, 0, 1, 0, 3, 0, 0, 4, 1, 1, 0, 4,\n",
       "       1, 1, 4, 3, 0, 1, 1, 1, 0, 4, 1, 4, 3, 1, 0, 4, 0, 1, 3, 0, 1, 3,\n",
       "       3, 1, 1, 4, 0, 1, 3, 4, 1, 3, 0, 4, 3, 1, 0, 4, 0, 3, 1, 0, 0, 0,\n",
       "       0, 3, 1, 4, 3, 3, 1, 1, 1, 1, 4, 1, 1, 2, 3, 2, 0, 2, 0, 2, 0, 2,\n",
       "       3, 2, 4, 2, 1, 2, 4, 2, 1, 2, 3, 2, 4, 2, 0, 2, 1, 2, 0, 2, 1, 2,\n",
       "       1, 2, 0, 2, 0, 2, 1, 2, 4, 2, 0, 2, 0, 2, 1, 2, 0, 2, 0, 2, 1, 2,\n",
       "       0, 2, 0, 2, 1, 2, 0, 2, 1, 2, 1, 2, 1, 2, 1, 2, 0, 2, 1, 2, 1, 2])"
      ]
     },
     "execution_count": 82,
     "metadata": {},
     "output_type": "execute_result"
    }
   ],
   "source": [
    "Kmeans = KMeans(n_clusters=5)\n",
    "y = Kmeans.fit_predict(X_scaled)\n",
    "y"
   ]
  },
  {
   "cell_type": "code",
   "execution_count": 83,
   "id": "17b77ed2",
   "metadata": {},
   "outputs": [],
   "source": [
    "#11.Split the data into dependent and independent variables"
   ]
  },
  {
   "cell_type": "code",
   "execution_count": 84,
   "id": "66a669cc",
   "metadata": {},
   "outputs": [],
   "source": [
    "#12. Split the data into training and testing"
   ]
  },
  {
   "cell_type": "code",
   "execution_count": 85,
   "id": "887d7f63",
   "metadata": {},
   "outputs": [
    {
     "data": {
      "text/plain": [
       "(158, 4)"
      ]
     },
     "execution_count": 85,
     "metadata": {},
     "output_type": "execute_result"
    }
   ],
   "source": [
    "from sklearn.model_selection import train_test_split\n",
    "# split the dtset\n",
    "X_train, X_test, Y_train, Y_test = train_test_split(X_scaled, y, test_size=0.20, random_state=0)\n",
    "X_train.shape\n",
    "\n"
   ]
  },
  {
   "cell_type": "code",
   "execution_count": 86,
   "id": "0eeec3bf",
   "metadata": {},
   "outputs": [
    {
     "data": {
      "text/plain": [
       "(40, 4)"
      ]
     },
     "execution_count": 86,
     "metadata": {},
     "output_type": "execute_result"
    }
   ],
   "source": [
    "X_test.shape\n"
   ]
  },
  {
   "cell_type": "code",
   "execution_count": 87,
   "id": "ca24922e",
   "metadata": {},
   "outputs": [
    {
     "data": {
      "text/plain": [
       "(158,)"
      ]
     },
     "execution_count": 87,
     "metadata": {},
     "output_type": "execute_result"
    }
   ],
   "source": [
    "\n",
    "Y_train.shape\n"
   ]
  },
  {
   "cell_type": "code",
   "execution_count": 88,
   "id": "bc704b58",
   "metadata": {},
   "outputs": [
    {
     "data": {
      "text/plain": [
       "(40,)"
      ]
     },
     "execution_count": 88,
     "metadata": {},
     "output_type": "execute_result"
    }
   ],
   "source": [
    "\n",
    "Y_test.shape"
   ]
  },
  {
   "cell_type": "code",
   "execution_count": 89,
   "id": "32700a2b",
   "metadata": {},
   "outputs": [],
   "source": [
    "#13. Build the Model"
   ]
  },
  {
   "cell_type": "code",
   "execution_count": 90,
   "id": "64a7412b",
   "metadata": {},
   "outputs": [
    {
     "data": {
      "text/plain": [
       "KNeighborsClassifier()"
      ]
     },
     "execution_count": 90,
     "metadata": {},
     "output_type": "execute_result"
    }
   ],
   "source": [
    "from sklearn.neighbors import KNeighborsClassifier\n",
    "knn = KNeighborsClassifier(n_neighbors=5)\n",
    "knn"
   ]
  },
  {
   "cell_type": "code",
   "execution_count": 91,
   "id": "18680936",
   "metadata": {},
   "outputs": [],
   "source": [
    "#14. Train the Model"
   ]
  },
  {
   "cell_type": "code",
   "execution_count": 92,
   "id": "e1e79eca",
   "metadata": {},
   "outputs": [
    {
     "data": {
      "text/plain": [
       "KNeighborsClassifier()"
      ]
     },
     "execution_count": 92,
     "metadata": {},
     "output_type": "execute_result"
    }
   ],
   "source": [
    "knn.fit(X_train,Y_train)"
   ]
  },
  {
   "cell_type": "code",
   "execution_count": 93,
   "id": "a11b156c",
   "metadata": {},
   "outputs": [],
   "source": [
    "#15Test the Model"
   ]
  },
  {
   "cell_type": "code",
   "execution_count": 94,
   "id": "5cbdbe52",
   "metadata": {},
   "outputs": [],
   "source": [
    "pred=knn.predict(X_test)"
   ]
  },
  {
   "cell_type": "code",
   "execution_count": 95,
   "id": "3bdfeb16",
   "metadata": {},
   "outputs": [
    {
     "data": {
      "text/plain": [
       "array([0, 1, 1, 2, 1, 1, 3, 1, 1, 0, 0, 4, 2, 1, 4, 3, 4, 0, 3, 0, 0, 2,\n",
       "       3, 2, 0, 3, 2, 2, 0, 1, 3, 2, 1, 3, 1, 1, 0, 3, 1, 2])"
      ]
     },
     "execution_count": 95,
     "metadata": {},
     "output_type": "execute_result"
    }
   ],
   "source": [
    "pred"
   ]
  },
  {
   "cell_type": "code",
   "execution_count": 96,
   "id": "1530471a",
   "metadata": {},
   "outputs": [],
   "source": [
    "#16 Measure the performance using Evaluation Metrics"
   ]
  },
  {
   "cell_type": "code",
   "execution_count": 97,
   "id": "9e22ceb1",
   "metadata": {},
   "outputs": [
    {
     "name": "stdout",
     "output_type": "stream",
     "text": [
      "Accuracy score: 0.95\n"
     ]
    }
   ],
   "source": [
    "from sklearn.metrics import accuracy_score,precision_score,confusion_matrix\n",
    "print(\"Accuracy score:\",accuracy_score(Y_test,pred))"
   ]
  },
  {
   "cell_type": "code",
   "execution_count": 98,
   "id": "e2614148",
   "metadata": {},
   "outputs": [
    {
     "name": "stdout",
     "output_type": "stream",
     "text": [
      "Precision score: 0.9555555555555555\n"
     ]
    }
   ],
   "source": [
    "print(\"Precision score:\",precision_score(Y_test,pred,average = \"macro\"))"
   ]
  },
  {
   "cell_type": "code",
   "execution_count": 99,
   "id": "32ab3483",
   "metadata": {},
   "outputs": [
    {
     "data": {
      "image/png": "[encoded data removed]",
      "text/plain": [
       "<Figure size 432x288 with 2 Axes>"
      ]
     },
     "metadata": {
      "needs_background": "light"
     },
     "output_type": "display_data"
    }
   ],
   "source": [
    "cf=confusion_matrix(Y_test,pred)\n",
    "sns.heatmap(cf,cmap='coolwarm',annot=True)\n",
    "plt.xlabel(\"Prediction\")\n",
    "plt.ylabel(\"Actual\")\n",
    "plt.show()"
   ]
  },
  {
   "cell_type": "code",
   "execution_count": 100,
   "id": "d634a8b0",
   "metadata": {},
   "outputs": [],
   "source": [
    "#Perform Metrics\n",
    "# importing metrics \n",
    "from sklearn.metrics import mean_absolute_error,mean_squared_error,r2_score"
   ]
  },
  {
   "cell_type": "code",
   "execution_count": 101,
   "id": "37ad51c5",
   "metadata": {},
   "outputs": [
    {
     "name": "stdout",
     "output_type": "stream",
     "text": [
      "r2_score : 0.5180722891566265\n",
      "MSE : 0.8\n",
      "MAE : 0.2\n",
      "RMSE : 0.8944271909999159\n"
     ]
    }
   ],
   "source": [
    "print(\"r2_score :\",r2_score(Y_test,pred))\n",
    "print(\"MSE :\",mean_squared_error(Y_test,pred))\n",
    "print(\"MAE :\",mean_absolute_error(Y_test,pred))\n",
    "print(\"RMSE :\",np.sqrt(mean_squared_error(Y_test,pred)))"
   ]
  }
 ],
 "metadata": {
  "kernelspec": {
   "display_name": "Python 3 (ipykernel)",
   "language": "python",
   "name": "python3"
  },
  "language_info": {
   "codemirror_mode": {
    "name": "ipython",
    "version": 3
   },
   "file_extension": ".py",
   "mimetype": "text/x-python",
   "name": "python",
   "nbconvert_exporter": "python",
   "pygments_lexer": "ipython3",
   "version": "3.9.12"
  }
 },
 "nbformat": 4,
 "nbformat_minor": 5
}
